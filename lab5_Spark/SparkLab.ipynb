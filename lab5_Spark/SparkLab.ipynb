{
 "cells": [
  {
   "cell_type": "code",
   "execution_count": 1,
   "metadata": {
    "colab": {
     "base_uri": "https://localhost:8080/"
    },
    "id": "KNCbMKLZD2mp",
    "outputId": "859c6b55-4e8f-4134-b963-ff2dbe24dc64"
   },
   "outputs": [
    {
     "name": "stdout",
     "output_type": "stream",
     "text": [
      "Collecting pyspark\n",
      "  Downloading pyspark-3.2.0.tar.gz (281.3 MB)\n",
      "\u001b[K     |████████████████████████████████| 281.3 MB 38 kB/s \n",
      "\u001b[?25hCollecting py4j==0.10.9.2\n",
      "  Downloading py4j-0.10.9.2-py2.py3-none-any.whl (198 kB)\n",
      "\u001b[K     |████████████████████████████████| 198 kB 48.0 MB/s \n",
      "\u001b[?25hBuilding wheels for collected packages: pyspark\n",
      "  Building wheel for pyspark (setup.py) ... \u001b[?25l\u001b[?25hdone\n",
      "  Created wheel for pyspark: filename=pyspark-3.2.0-py2.py3-none-any.whl size=281805912 sha256=030c610b5b31cb76f9d2fbd531f6d386c52e38e9c8cf71bccde54f7e70c00d14\n",
      "  Stored in directory: /root/.cache/pip/wheels/0b/de/d2/9be5d59d7331c6c2a7c1b6d1a4f463ce107332b1ecd4e80718\n",
      "Successfully built pyspark\n",
      "Installing collected packages: py4j, pyspark\n",
      "Successfully installed py4j-0.10.9.2 pyspark-3.2.0\n"
     ]
    }
   ],
   "source": [
    "!pip install pyspark"
   ]
  },
  {
   "cell_type": "code",
   "execution_count": 2,
   "metadata": {
    "id": "V_lGwEjxD2mr"
   },
   "outputs": [],
   "source": [
    "from datetime import datetime, date\n",
    "import datetime as dt\n",
    "import time\n",
    "from pyspark.sql import DataFrame\n",
    "import pandas as pd\n",
    "from pyspark.sql import Row\n",
    "from pyspark.sql import functions as F\n",
    "from pyspark.sql.functions import current_timestamp, from_unixtime\n",
    "import random\n",
    "import string\n",
    "import numpy as np\n",
    "import itertools\n",
    "import scipy.stats"
   ]
  },
  {
   "cell_type": "code",
   "execution_count": 3,
   "metadata": {
    "id": "tArox2cI7ZrV"
   },
   "outputs": [],
   "source": [
    "all_names = [\"Valera\", \"Volodya\", \"Masha\", \"Eva\" , \"Vsevolod\", \"Efrosinia\" , \"James\",\n",
    "             \"Mary\", \"Robert\", \"Patricia\", \"John\", \"Jennifer\", \"Michael\", \"Linda\",\n",
    "             \"William\", \"Elizabeth\", \"David\", \"Barbara\", \"Richard\", \"Susan\", \"Joseph\",\n",
    "             \"Jessica\", \"Thomas\", \"Sarah\", \"Charles\", \"Karen\", \"Christopher\", \"Nancy\",\n",
    "             \"Daniel\", \"Lisa\", \"Matthew\", \"Betty\", \"Anthony\", \"Margaret\", \"Mark\",\n",
    "             \"Sandra\", \"Donald\", \"Ashley\", \"Steven\", \"Kimberly\", \"Paul\", \"Emily\",\n",
    "             \"Andrew\", \"Donna\", \"Joshua\", \"Michelle\", \"Kenneth\", \"Dorothy\", \"Kevin\",\n",
    "             \"Carol\", \"Brian\", \"Amanda\", \"George\", \"Melissa\", \"Edward\", \"Deborah\",\n",
    "             \"Ronald\", \"Stephanie\", \"Timothy\", \"Rebecca\", \"Jason\", \"Sharon\", \"Jeffrey\",\n",
    "             \"Laura\", \"Ryan\", \"Cynthia\", \"Jacob\", \"Kathleen\", \"Gary\", \"Amy\", \"Nicholas\",\n",
    "             \"Shirley\", \"Eric\", \"Angela\", \"Jonathan\", \"Helen\", \"Stephen\", \"Anna\", \"Larry\",\n",
    "             \"Brenda\", \"Justin\", \"Pamela\", \"Scott\", \"Nicole\", \"Brandon\", \"Emma\", \"Benjamin\",\n",
    "             \"Samantha\", \"Samuel\", \"Katherine\", \"Gregory\", \"Christine\", \"Frank\", \"Debra\",\n",
    "             \"Alexander\", \"Rachel\", \"Raymond\", \"Catherine\", \"Patrick\", \"Carolyn\", \"Jack\",\n",
    "             \"Janet\", \"Dennis\", \"Ruth\", \"Jerry\", \"Maria\", \"Tyler\", \"Heather\", \"Aaron\", \"Diane\",\n",
    "             \"Jose\", \"Virginia\", \"Adam\", \"Julie\", \"Henry\", \"Joyce\", \"Nathan\", \"Victoria\", \"Douglas\", \"Olivia\", \"Zachary\",\n",
    "             \"Kelly\", \"Peter\", \"Christina\", \"Kyle\", \"Lauren\", \"Walter\", \"Joan\", \"Ethan\", \"Evelyn\", \"Jeremy\", \"Judith\", \"Harold\",\n",
    "             \"Megan\", \"Keith\", \"Cheryl\", \"Christian\", \"Andrea\", \"Roger\", \"Hannah\", \"Noah\", \"Martha\", \"Gerald\", \"Jacqueline\",\n",
    "             \"Carl\", \"Frances\", \"Terry\", \"Gloria\"]\n",
    "\n",
    "all_surnames = ['Braund', 'Cumings', 'Heikkinen', 'Futrelle', 'Allen', 'Moran',\n",
    "       'McCarthy', 'Palsson', 'Johnson', 'Nasser', 'Sandstrom', 'Bonnell',\n",
    "       'Saundercock', 'Andersson', 'Vestrom', 'Hewlett', 'Rice',\n",
    "       'Williams', 'Vander Planke', 'Masselmani', 'Fynney', 'Beesley',\n",
    "       'McGowan', 'Sloper', 'Asplund', 'Fortune', 'ODwyer',\n",
    "       'Todoroff', 'Uruchurtu', 'Spencer', 'Glynn', 'Wheadon', 'Meyer',\n",
    "       'Holverson', 'Mamee', 'Cann', 'Yarred', 'Ahlin', 'Turpin',\n",
    "       'Kraeff', 'Laroche', 'Devaney', 'Rogers', 'Lennon', 'ODriscoll',\n",
    "       'Samaan', 'Franchi', 'Panula', 'Nosworthy', 'Harper',\n",
    "       'Faunthorpe', 'Ostby', 'Woolner', 'Rugg', 'Novel', 'West',\n",
    "       'Goodwin', 'Sirayanian', 'Icard', 'Harris', 'Skoog', 'Stewart',\n",
    "       'Moubarek', 'Nye', 'Crease', 'Kink', 'Jenkin', 'Hood',\n",
    "       'Chronopoulos', 'Schevchenko', 'Morozov', 'Abihashvili']\n",
    "\n"
   ]
  },
  {
   "cell_type": "code",
   "execution_count": 5,
   "metadata": {
    "id": "Ie9aPmpb7ZvL"
   },
   "outputs": [],
   "source": [
    "N_USERS = 6000\n",
    "N_DRIVERS = 3000"
   ]
  },
  {
   "cell_type": "code",
   "execution_count": null,
   "metadata": {
    "id": "3NjBy5DQ7Zyy"
   },
   "outputs": [],
   "source": []
  },
  {
   "cell_type": "code",
   "execution_count": 6,
   "metadata": {
    "id": "hEgErFi9D2mt"
   },
   "outputs": [],
   "source": [
    "def timestamp_now():\n",
    "    return round(datetime.utcnow().timestamp() * 1000)"
   ]
  },
  {
   "cell_type": "code",
   "execution_count": 7,
   "metadata": {
    "id": "v05lciKED2mv"
   },
   "outputs": [],
   "source": [
    "from pyspark.sql import SparkSession\n",
    "#import org.apache.spark.sql.SparkSession;\n",
    "spark = SparkSession \\\n",
    "            .builder \\\n",
    "            .getOrCreate()"
   ]
  },
  {
   "cell_type": "code",
   "execution_count": 8,
   "metadata": {
    "colab": {
     "base_uri": "https://localhost:8080/"
    },
    "id": "if85CdB6-w_P",
    "outputId": "de733868-3089-4de9-acb7-a5515f74e136"
   },
   "outputs": [
    {
     "name": "stdout",
     "output_type": "stream",
     "text": [
      "Mounted at /content/drive\n"
     ]
    }
   ],
   "source": [
    "from google.colab import drive\n",
    "drive.mount('/content/drive')"
   ]
  },
  {
   "cell_type": "code",
   "execution_count": 9,
   "metadata": {
    "id": "wYoZOGKc-yRu"
   },
   "outputs": [],
   "source": [
    "def generate_users(n_users = 100):\n",
    "    ids = np.arange(n_users)+10000\n",
    "    names = np.random.choice(all_names, n_users)\n",
    "    surnames = np.random.choice(all_surnames, n_users)\n",
    "    user_pdf = pd.DataFrame({\"Id\":ids, \"Name\":names, \"Surname\":surnames})\n",
    "    \n",
    "    return spark.createDataFrame(user_pdf, schema='Id bigint, Name string, Surname string')\n",
    "\n",
    "users_dataframe = generate_users(N_USERS)\n"
   ]
  },
  {
   "cell_type": "code",
   "execution_count": 10,
   "metadata": {
    "id": "klMoAB4YOjzU"
   },
   "outputs": [],
   "source": [
    "users_dataframe.write.parquet('/content/drive/My Drive/sparklab/spark/users.parquet')"
   ]
  },
  {
   "cell_type": "code",
   "execution_count": 11,
   "metadata": {
    "colab": {
     "base_uri": "https://localhost:8080/"
    },
    "id": "wswoAjfU-xIu",
    "outputId": "d0e84fcc-94f5-4796-969c-2529563ea443"
   },
   "outputs": [
    {
     "name": "stdout",
     "output_type": "stream",
     "text": [
      "+-----+----------+-----------+\n",
      "|   Id|      Name|    Surname|\n",
      "+-----+----------+-----------+\n",
      "|10000|     Joyce|    McGowan|\n",
      "|10001|    Pamela|     Braund|\n",
      "|10002|    Steven|     Braund|\n",
      "|10003|Jacqueline|      Glynn|\n",
      "|10004|      Mary|   Futrelle|\n",
      "|10005|  Nicholas|    Cumings|\n",
      "|10006|     Peter|Abihashvili|\n",
      "|10007|   Anthony|     Jenkin|\n",
      "|10008|      Noah|    Morozov|\n",
      "|10009|    Pamela|    Woolner|\n",
      "|10010|  Benjamin|     Braund|\n",
      "|10011|  Kathleen|   Williams|\n",
      "|10012|     Sarah|       Hood|\n",
      "|10013|     Helen|    Goodwin|\n",
      "|10014|   Volodya|   Williams|\n",
      "|10015|    Ashley|    Beesley|\n",
      "|10016|   Dorothy|        Nye|\n",
      "|10017|   Brandon|      Novel|\n",
      "|10018|   Jessica|      Novel|\n",
      "|10019|    Rachel|    Goodwin|\n",
      "+-----+----------+-----------+\n",
      "only showing top 20 rows\n",
      "\n"
     ]
    }
   ],
   "source": [
    "users_dataframe.show()"
   ]
  },
  {
   "cell_type": "code",
   "execution_count": 12,
   "metadata": {
    "id": "t2kQT3klDwYK"
   },
   "outputs": [],
   "source": [
    "def generate_drivers(n_drivers = 100):\n",
    "    ids = np.arange(n_drivers)+1000\n",
    "    names = np.random.choice(all_names, n_drivers)\n",
    "    surnames = np.random.choice(all_surnames, n_drivers)\n",
    "    car = np.random.choice(np.arange(1000, 10000), n_drivers)\n",
    "\n",
    "    drivers_pdf = pd.DataFrame({\"Id\":ids, \"Name\":names, \"Surname\":surnames, \"Car\": car})\n",
    "    \n",
    "    return spark.createDataFrame(drivers_pdf, schema='Id bigint, Name string, Surname string,  Car string')\n",
    "\n",
    "drivers_dataframe = generate_drivers(N_DRIVERS)\n"
   ]
  },
  {
   "cell_type": "code",
   "execution_count": 13,
   "metadata": {
    "id": "qQAcmPMw6qWo"
   },
   "outputs": [],
   "source": [
    "drivers_dataframe.write.parquet('/content/drive/My Drive/sparklab/spark/drivers.parquet')"
   ]
  },
  {
   "cell_type": "code",
   "execution_count": 14,
   "metadata": {
    "colab": {
     "base_uri": "https://localhost:8080/"
    },
    "id": "GCsJFpa1DwlA",
    "outputId": "06dab33e-1272-45a8-b18c-653553282fd0"
   },
   "outputs": [
    {
     "name": "stdout",
     "output_type": "stream",
     "text": [
      "+----+---------+------------+----+\n",
      "|  Id|     Name|     Surname| Car|\n",
      "+----+---------+------------+----+\n",
      "|1000|    Julie|      Jenkin|2525|\n",
      "|1001|   Daniel|     Franchi|6404|\n",
      "|1002|   Sharon|   Holverson|8931|\n",
      "|1003|Stephanie|       Meyer|4185|\n",
      "|1004|   Martha|        West|6684|\n",
      "|1005| Michelle|   Holverson|6677|\n",
      "|1006|    Nancy|    Williams|4303|\n",
      "|1007|   Dennis|   Heikkinen|9793|\n",
      "|1008|    Laura|     Bonnell|2757|\n",
      "|1009|   Sharon|     Morozov|7536|\n",
      "|1010| Nicholas|      Crease|7274|\n",
      "|1011|    Terry|      Fynney|5483|\n",
      "|1012|    Ethan|Chronopoulos|6027|\n",
      "|1013|     Joan|      ODwyer|2809|\n",
      "|1014|   Brenda|     Palsson|5112|\n",
      "|1015|   Martha|      Harris|4151|\n",
      "|1016|    Terry|     Spencer|7721|\n",
      "|1017|   Nathan|   Heikkinen|3156|\n",
      "|1018|     Carl|      Turpin|2746|\n",
      "|1019|     Jose|    Todoroff|6464|\n",
      "+----+---------+------------+----+\n",
      "only showing top 20 rows\n",
      "\n"
     ]
    }
   ],
   "source": [
    "drivers_dataframe.show()"
   ]
  },
  {
   "cell_type": "code",
   "execution_count": 15,
   "metadata": {
    "id": "aoEpkV5KD2m1"
   },
   "outputs": [],
   "source": [
    "london_address = spark.read.csv('/content/drive/My Drive/sparklab/spark/London postcodes.csv', header=True)"
   ]
  },
  {
   "cell_type": "code",
   "execution_count": 17,
   "metadata": {
    "id": "Ihb2gHtPedLu"
   },
   "outputs": [],
   "source": [
    "price_coef_func = lambda mult, x: mult*np.piecewise(x,  [np.logical_and(x>=0, x<=6), #night \n",
    "                          \n",
    "                          np.logical_or(np.logical_and(x>6, x<=16), np.logical_and(x>20, x<=24)), # normal\n",
    "\n",
    "                          np.logical_and(x>16, x<=20) # rush hour \n",
    "                          \n",
    "                          ],\n",
    "                             [2, 1, 3])"
   ]
  },
  {
   "cell_type": "code",
   "execution_count": 18,
   "metadata": {
    "id": "bIffU3b9LUZK"
   },
   "outputs": [],
   "source": [
    "def generate_data(users, dirvers, addresses, n_points=300):\n",
    "    ids = np.arange(n_points) + 10000\n",
    "\n",
    "    driver_ids = dirvers.select(\"Id\").toPandas().sample(n_points, replace=True).reset_index(drop=True)\n",
    "    user_ids = users.select(\"Id\").toPandas().sample(n_points, replace=True).reset_index(drop=True)\n",
    "\n",
    "    lats = london_address.select(\n",
    "        \"Latitude\"\n",
    "    )  # .toPandas().sample(n_points, replace = True)\n",
    "    longs = london_address.select(\n",
    "        \"Longitude\"\n",
    "    )  # .toPandas().sample(n_points, replace = True)\n",
    "\n",
    "    # start point\n",
    "    start_lat = lats.toPandas().sample(n_points, replace=True).reset_index(drop=True)\n",
    "    start_long = longs.toPandas().sample(n_points, replace=True).reset_index(drop=True)\n",
    "    # end point\n",
    "    end_lat = lats.toPandas().sample(n_points, replace=True).reset_index(drop=True)\n",
    "    end_long = longs.toPandas().sample(n_points, replace=True).reset_index(drop=True)\n",
    "\n",
    "    # define all posible start times\n",
    "    all_times = pd.Series(\n",
    "        pd.date_range(start=\"2021-09-01\", end=\"2021-12-31\", freq=\"min\")\n",
    "    )\n",
    "    # choose when we start\n",
    "    start_times = all_times.sample(n_points, replace=True).reset_index(drop=True)\n",
    "    # generete poezdka duration with possion dist\n",
    "    # матожидаение длины поездки = 20\n",
    "    durations = pd.to_timedelta(pd.Series(np.random.poisson(20, n_points)), \"min\")\n",
    "    end_times = start_times + durations\n",
    "\n",
    "    # price function\n",
    "    prices = 50 + durations.dt.total_seconds() / 60 * price_coef_func(\n",
    "        1.2, start_times.dt.hour.values\n",
    "    )  # зависит от длительности поездки в минутах умноженый\n",
    "    # на коэф от часа начала поедки\n",
    "\n",
    "    # rate of driver (5-4-3-2-1  5 most probable)\n",
    "    # 0.4 of rates will be null\n",
    "    driver_rates = np.random.choice(\n",
    "        np.arange(1, 6), n_points, p=np.arange(1, 6) / np.arange(1, 6).sum()\n",
    "    ).astype(\"float16\")\n",
    "    driver_rates[\n",
    "        np.random.choice(driver_rates.size, int(0.4 * driver_rates.size), replace=False)\n",
    "    ] = None\n",
    "\n",
    "    # 0.7 of user rates will be null\n",
    "    user_rates = np.random.choice(\n",
    "        np.arange(1, 6), n_points, p=np.arange(1, 6) / np.arange(1, 6).sum()\n",
    "    ).astype(\"float16\")\n",
    "\n",
    "    user_rates[\n",
    "        np.random.choice(user_rates.size, int(0.7 * user_rates.size), replace=False)\n",
    "    ] = None\n",
    "\n",
    "    data_df = pd.DataFrame({\n",
    "            \"Id\": ids,\n",
    "            \"DriverId\": driver_ids.values.flatten(),\n",
    "            \"UserId\": user_ids.values.flatten(),\n",
    "            \"SLat\": start_lat.values.flatten().astype(\"float32\"),\n",
    "            \"SLong\": start_long.values.flatten().astype(\"float32\"),\n",
    "            \"ELat\": end_lat.values.flatten().astype(\"float32\"),\n",
    "            \"ELong\": end_long.values.flatten().astype(\"float32\"),\n",
    "            \"StartTime\": start_times.values.flatten(),\n",
    "            \"EndTime\": end_times.values.flatten(),\n",
    "            \"Duration\": (durations.dt.total_seconds()/60).values.flatten(),\n",
    "            \"Price\": prices.values.flatten(),\n",
    "            \"DriverRate\": driver_rates.astype(\"int\"),\n",
    "            \"UserRate\": user_rates.astype(\"int\"),\n",
    "        }\n",
    "    )\n",
    "      \n",
    "\n",
    "    df = spark.createDataFrame(\n",
    "        data_df,\n",
    "        # schema=\"Id bigint, DriverId bigint, UserId bigint, SLat float, SLong float, ELat float, ELong float, StartTime timestamp, EndTime timestamp, Duration float, Price float, DriverRate bigint, UserRate bigint\",\n",
    "    )\n",
    "    #kostyl`\n",
    "    df = df.replace(-9223372036854775808, None)\n",
    "    return df"
   ]
  },
  {
   "cell_type": "code",
   "execution_count": 19,
   "metadata": {
    "id": "pBXkQHBdgP4J"
   },
   "outputs": [],
   "source": [
    "lab_data =  generate_data(users_dataframe, drivers_dataframe, london_address, 100000)\n"
   ]
  },
  {
   "cell_type": "code",
   "execution_count": 20,
   "metadata": {
    "id": "KFQgx2RrCbbu"
   },
   "outputs": [],
   "source": [
    "lab_data.write.parquet('/content/drive/My Drive/sparklab/spark/orders.parquet')"
   ]
  },
  {
   "cell_type": "code",
   "execution_count": 21,
   "metadata": {
    "colab": {
     "base_uri": "https://localhost:8080/"
    },
    "id": "rEntXNlQtw3W",
    "outputId": "e162995e-a53d-4db3-d8f2-353ea84ef422"
   },
   "outputs": [
    {
     "name": "stdout",
     "output_type": "stream",
     "text": [
      "+-----+--------+------+------------------+--------------------+------------------+--------------------+-------------------+-------------------+------------------+------------------+----------+--------+\n",
      "|   Id|DriverId|UserId|              SLat|               SLong|              ELat|               ELong|          StartTime|            EndTime|          Duration|             Price|DriverRate|UserRate|\n",
      "+-----+--------+------+------------------+--------------------+------------------+--------------------+-------------------+-------------------+------------------+------------------+----------+--------+\n",
      "|10000|    1270| 12639| 51.36375045776367|-0.01355599984526...| 51.62733459472656| -0.3828989863395691|2021-10-10 09:14:00|2021-10-10 09:32:00|              18.0|              71.6|      null|       2|\n",
      "|10001|    2663| 10242| 51.51357650756836|-0.20705699920654297|  51.5717887878418|-0.21859900653362274|2021-10-25 22:18:00|2021-10-25 22:39:00|              21.0|              75.2|         4|    null|\n",
      "|10002|    1137| 13395| 51.51637649536133|-0.01370699983090...| 51.51193618774414|-0.05302099883556366|2021-12-09 14:51:00|2021-12-09 15:11:00|              20.0|              74.0|         5|    null|\n",
      "|10003|    3504| 15879|51.474910736083984| -0.2504880130290985| 51.48366165161133| -0.4280009865760803|2021-10-19 00:51:00|2021-10-19 01:09:00|              18.0| 93.19999999999999|         5|    null|\n",
      "|10004|    3930| 11315|  51.4592399597168|-0.14452199637889862| 51.50749969482422|-0.07092499732971191|2021-11-27 00:42:00|2021-11-27 01:00:00|              18.0| 93.19999999999999|         5|       4|\n",
      "|10005|    2201| 15398| 51.55119323730469|-0.07710599899291992| 51.61741256713867|-0.33911699056625366|2021-10-16 02:15:00|2021-10-16 02:31:00|16.000000000000004|              88.4|         5|    null|\n",
      "|10006|    2828| 12180|51.490238189697266|-0.11135800182819366| 51.45539474487305|-0.11908800154924393|2021-12-17 16:16:00|2021-12-17 16:38:00|              22.0|              76.4|         2|    null|\n",
      "|10007|    2480| 10313|51.521385192871094|-0.06025400012731552| 51.62986373901367|-0.28386399149894714|2021-10-03 12:13:00|2021-10-03 12:31:00|              18.0|              71.6|         1|    null|\n",
      "|10008|    1782| 10678| 51.54828643798828| -0.2625640034675598| 51.53648376464844|-0.11647599935531616|2021-12-07 13:50:00|2021-12-07 14:08:00|              18.0|              71.6|         4|    null|\n",
      "|10009|    2302| 13921|51.473873138427734|-0.06041900068521...|51.642459869384766|-0.15063099563121796|2021-10-12 14:05:00|2021-10-12 14:26:00|              21.0|              75.2|      null|    null|\n",
      "|10010|    3169| 10147| 51.52357864379883| 0.12536799907684326| 51.48938751220703|-0.30459898710250854|2021-12-23 12:55:00|2021-12-23 13:18:00|              23.0|              77.6|         3|    null|\n",
      "|10011|    2941| 10165| 51.49235534667969|-0.10151699930429459| 51.59092330932617|-0.21296800673007965|2021-10-07 21:15:00|2021-10-07 21:31:00|16.000000000000004|              69.2|      null|    null|\n",
      "|10012|    2904| 15318| 51.49051284790039|-0.17103800177574158|51.509010314941406|-0.10759899765253067|2021-12-15 08:16:00|2021-12-15 08:30:00|              14.0|              66.8|         2|    null|\n",
      "|10013|    3955| 12908| 51.38393783569336|-0.03209799900650978| 51.51473617553711|-0.02655299939215...|2021-11-04 17:07:00|2021-11-04 17:24:00|17.000000000000004|111.20000000000002|         4|    null|\n",
      "|10014|    1146| 14847| 51.47793197631836|0.013035999611020088| 51.50056838989258|  0.0686890035867691|2021-10-10 05:20:00|2021-10-10 05:39:00|              19.0|              95.6|         4|    null|\n",
      "|10015|    1843| 11434| 51.65415573120117|-0.17348499596118927| 51.37309646606445|-0.11208800226449966|2021-10-31 13:26:00|2021-10-31 13:45:00|              19.0|              72.8|         3|       3|\n",
      "|10016|    2598| 12033| 51.47336959838867| 0.10626500099897385| 51.58021926879883| -0.1959889978170395|2021-10-05 04:54:00|2021-10-05 05:17:00|              23.0|105.19999999999999|      null|    null|\n",
      "|10017|    1889| 13791| 51.53785705566406|-0.19302399456501007|51.534515380859375|-0.13740700483322144|2021-10-10 16:14:00|2021-10-10 16:42:00|              28.0|              83.6|         3|       4|\n",
      "|10018|    1431| 15845|  51.5186882019043|-0.30371201038360596|  51.4193000793457|-0.08713199943304062|2021-12-23 13:29:00|2021-12-23 13:46:00|17.000000000000004|              70.4|         2|    null|\n",
      "|10019|    3648| 14969| 51.31980514526367|-0.13424399495124817| 51.58815002441406|-0.26133400201797485|2021-10-17 00:58:00|2021-10-17 01:18:00|              20.0|              98.0|         5|    null|\n",
      "+-----+--------+------+------------------+--------------------+------------------+--------------------+-------------------+-------------------+------------------+------------------+----------+--------+\n",
      "only showing top 20 rows\n",
      "\n"
     ]
    }
   ],
   "source": [
    "lab_data.show()"
   ]
  },
  {
   "cell_type": "code",
   "execution_count": 22,
   "metadata": {
    "colab": {
     "base_uri": "https://localhost:8080/",
     "height": 283
    },
    "id": "i3yN8PSTqFX8",
    "outputId": "11f9c36f-3c6c-44e7-ea33-d9d09c3bea7b"
   },
   "outputs": [
    {
     "data": {
      "text/plain": [
       "[<matplotlib.lines.Line2D at 0x7f569fc99d50>]"
      ]
     },
     "execution_count": 22,
     "metadata": {},
     "output_type": "execute_result"
    },
    {
     "data": {
      "image/png": "[encoded data removed]",
      "text/plain": [
       "<Figure size 432x288 with 1 Axes>"
      ]
     },
     "metadata": {
      "needs_background": "light"
     },
     "output_type": "display_data"
    }
   ],
   "source": [
    "import matplotlib.pyplot as plt\n",
    "base_tariff = 1.2\n",
    "x = np.arange(0, 24, 0.1)   # start,stop,step\n",
    "y = price_coef_func(1.2, x)\n",
    "y2 = np.zeros(x.shape)\n",
    "\n",
    "\n",
    "plt.plot(x,y)\n",
    "plt.plot(x,y2)"
   ]
  },
  {
   "cell_type": "code",
   "execution_count": 23,
   "metadata": {
    "id": "ekO4h4QC7HoX"
   },
   "outputs": [],
   "source": [
    "def generate_sentences(n_sentences = 300, max_n_words = 10):\n",
    "    # функция перевода в 36ричную систему (26 букв англ алфавита + 10 цифр)\n",
    "    def stringify(n, base=36):\n",
    "        return np.base_repr(n, base=base)\n",
    "    # Векторизированая \n",
    "    stringificate = np.vectorize(stringify)\n",
    "\n",
    "    res = pd.Series([\"\" for _ in range(n_sentences)])\n",
    "\n",
    "    # маска, что бы обнулять слова\n",
    "    p_zero_mask = np.random.uniform(0, 1, max_n_words)\n",
    "\n",
    "    # цикл: генерируем число из какого-то ужасного распределения -> переводим в строку в 36ичной системе ->\n",
    "    # -> обнуляем с какой-то вероятностью и записываем в предложение\n",
    "    for i in range(p_zero_mask.shape[0]):\n",
    "        x = pd.Series(\n",
    "            stringificate(\n",
    "                np.abs(\n",
    "                    (\n",
    "                        scipy.stats.gilbrat(loc=0.00, scale=1/100)\n",
    "                        .rvs(size=n_sentences)\n",
    "                    )\n",
    "                    * np.random.randint(36 ** 2, 36 ** 11, n_sentences)\n",
    "                ).astype('int'),\n",
    "                36,\n",
    "            )\n",
    "        )\n",
    "        empty_mask = np.random.choice(\n",
    "            np.arange(x.shape[0]), size=int(p_zero_mask[i] * x.shape[0])\n",
    "        )\n",
    "        x.iloc[empty_mask] = \"\"\n",
    "        res += \" \"\n",
    "        res += x\n",
    "    # удаляем повторяющиеся пробелы\n",
    "    res = res.replace(\"\\s+\", \" \", regex=True)\n",
    "    # удаляем цифры и делаем нижний регистр\n",
    "    res = res.replace(\"[\\d\\.]\", \"\", regex=True).str.lower()\n",
    "\n",
    "    return res.values.flatten()"
   ]
  },
  {
   "cell_type": "code",
   "execution_count": 24,
   "metadata": {
    "id": "jit-qPW12tPp"
   },
   "outputs": [],
   "source": [
    "def generate_feedback(rides, n_points=300):\n",
    "    ids = np.arange(n_points) + 10000\n",
    "\n",
    "    assert n_points<=rides.count(), \"ACHTUNG\"\n",
    "\n",
    "    ride_ids = rides.select(\"Id\").toPandas().sample(n_points, replace=True).reset_index(drop=True)\n",
    "\n",
    "    # feedback id\n",
    "    # ride id\n",
    "    # feedback type (0 -negative,1 - pos)\n",
    "    # category type  (service, comfort, speed)\n",
    "    # text_field (random string)\n",
    "\n",
    "    feedback_types = np.random.choice([False,True], n_points) #50/50\n",
    "    category_types = np.random.choice([\"service\", \"comfort\", \"speed\", \"waiting\"], n_points)\n",
    "    ride_comments = generate_sentences(n_points, np.random.poisson(20))\n",
    "\n",
    "    feedback_df = pd.DataFrame({\n",
    "            \"Id\": ids,\n",
    "            \"RideId\":ride_ids.values.flatten(),\n",
    "            \"FeedbackType\": feedback_types,\n",
    "            \"CategoryType\": category_types,\n",
    "            \"Comment\": ride_comments,\n",
    "        }\n",
    "    )\n",
    "      \n",
    "\n",
    "    df = spark.createDataFrame(\n",
    "        feedback_df,\n",
    "        schema=\"Id bigint, RideId bigint, FeedbackType boolean, CategoryType string, Comment string\",\n",
    "    )\n",
    "    return df"
   ]
  },
  {
   "cell_type": "code",
   "execution_count": 25,
   "metadata": {
    "id": "_f6ftA0NCQNS"
   },
   "outputs": [],
   "source": [
    "feed_df = generate_feedback(lab_data, 10000)"
   ]
  },
  {
   "cell_type": "code",
   "execution_count": 26,
   "metadata": {
    "colab": {
     "base_uri": "https://localhost:8080/"
    },
    "id": "5ktyjGD8DpO6",
    "outputId": "2183c0f6-58ba-4cb5-c8dc-faeda99c1c73"
   },
   "outputs": [
    {
     "name": "stdout",
     "output_type": "stream",
     "text": [
      "+-----+------+------------+------------+--------------------+\n",
      "|   Id|RideId|FeedbackType|CategoryType|             Comment|\n",
      "+-----+------+------------+------------+--------------------+\n",
      "|10000| 18299|        true|       speed| zhphyz muipgwz z...|\n",
      "|10001| 50137|       false|       speed| zhutcf muusonb b...|\n",
      "|10002| 19130|        true|     waiting| lujw rlbhqrii az...|\n",
      "|10003| 28661|        true|     comfort| borqvv safe qwsr...|\n",
      "|10004| 52145|       false|     waiting| rvlee klujsp hot...|\n",
      "|10005| 38000|       false|     waiting| sqnuvtph dwtcx b...|\n",
      "|10006| 49322|       false|       speed| xcvdtidm aigwam ...|\n",
      "|10007| 61171|       false|     comfort| gdqagrw catgoj b...|\n",
      "|10008| 78704|       false|     comfort| pwhxfp pputrk rq...|\n",
      "|10009| 63270|       false|       speed| xcnqqb cehbwse c...|\n",
      "|10010| 67208|        true|     waiting| bluvtlvz dubp uh...|\n",
      "|10011| 47300|       false|     service| dokpex ixxdmm rk...|\n",
      "|10012| 22451|       false|       speed| lwfkbkuiz kcjfbh...|\n",
      "|10013| 60524|       false|     comfort| otuisxn mqaitpke...|\n",
      "|10014| 47457|        true|     comfort| nugikfg dswlo os...|\n",
      "|10015| 52179|        true|     service| tlyxmf karuxpvw ...|\n",
      "|10016| 16613|       false|     service| roccu vqodohafi ...|\n",
      "|10017| 73576|       false|     waiting| yxia ozslbhraa z...|\n",
      "|10018| 91017|        true|     comfort| entrnj ukoldqn g...|\n",
      "|10019| 83148|        true|     comfort| bugmbl wdvnhfva ...|\n",
      "+-----+------+------------+------------+--------------------+\n",
      "only showing top 20 rows\n",
      "\n"
     ]
    }
   ],
   "source": [
    "feed_df.show()"
   ]
  },
  {
   "cell_type": "markdown",
   "metadata": {
    "id": "Rnlx2-kz-XOI"
   },
   "source": [
    "# Варіант 1"
   ]
  },
  {
   "cell_type": "markdown",
   "metadata": {
    "id": "iJch8mmOR_Bz"
   },
   "source": [
    "## топ 100 водіїв за рейтингом"
   ]
  },
  {
   "cell_type": "code",
   "execution_count": 27,
   "metadata": {
    "colab": {
     "base_uri": "https://localhost:8080/"
    },
    "id": "LJwmHdoK_Ahy",
    "outputId": "bc78cfff-f5d5-4ebc-a5ae-b863b3bd6e77"
   },
   "outputs": [
    {
     "name": "stdout",
     "output_type": "stream",
     "text": [
      "+--------+---------+------------+----+------------------+\n",
      "|DriverId|     Name|     Surname| Car|            Rating|\n",
      "+--------+---------+------------+----+------------------+\n",
      "|    3621| Kathleen|     Cumings|4518| 4.631578947368421|\n",
      "|    3176|  Richard|    Williams|9468| 4.555555555555555|\n",
      "|    2010|    Emily|      Crease|9905| 4.538461538461538|\n",
      "|    3124|    Scott|Chronopoulos|2292| 4.538461538461538|\n",
      "|    1117|  Jessica|     Devaney|8556|               4.5|\n",
      "|    3382|  Patrick|      Crease|8852|               4.5|\n",
      "|    1393|  William|     Hewlett|6608| 4.478260869565218|\n",
      "|    3260|   Nicole|     Cumings|2089| 4.444444444444445|\n",
      "|    2984|   Brenda| Saundercock|2710|            4.4375|\n",
      "|    3529|    Kevin|       Meyer|8317| 4.428571428571429|\n",
      "|    3974|   Sharon|      Crease|4537| 4.411764705882353|\n",
      "|    2201|  Matthew|        West|9794| 4.409090909090909|\n",
      "|    3895|    Kevin|        Cann|8066| 4.409090909090909|\n",
      "|    1763| Virginia|     Devaney|2907|               4.4|\n",
      "|    2832|    Kevin|Chronopoulos|7784|               4.4|\n",
      "|    3436|    Maria|      Nasser|9049|               4.4|\n",
      "|    2322|  Timothy|      Harris|8659|               4.4|\n",
      "|    3494|Christina|      Braund|2438|               4.4|\n",
      "|    3108|   Nicole|       Ostby|5345| 4.384615384615385|\n",
      "|    3866|   Harold|     Devaney|2062| 4.380952380952381|\n",
      "|    1885|     John|    Todoroff|6801|             4.375|\n",
      "|    3657|     Mary|     Goodwin|6638|             4.375|\n",
      "|    3504|    Carol|        Rugg|6086| 4.357142857142857|\n",
      "|    2132|     Kyle|     Morozov|7112| 4.357142857142857|\n",
      "|    3373| Jennifer|  Sirayanian|8504| 4.352941176470588|\n",
      "|    3303|   Hannah|      Harper|3535| 4.352941176470588|\n",
      "|    1806|    Masha|     Stewart|9812| 4.333333333333333|\n",
      "|    1152|Christian|       Glynn|3557| 4.333333333333333|\n",
      "|    1329|   Cheryl|      Harper|6693| 4.333333333333333|\n",
      "|    1602| Michelle|       Moran|5632| 4.333333333333333|\n",
      "|    1779|    Brian|     Woolner|8609| 4.333333333333333|\n",
      "|    2074|  Gregory|     Franchi|9316| 4.333333333333333|\n",
      "|    1291|   Robert|      Jenkin|2934| 4.321428571428571|\n",
      "|    1254|     Mark|        Rice|8922| 4.318181818181818|\n",
      "|    3160| Benjamin|      Turpin|6339| 4.318181818181818|\n",
      "|    1681|    Sarah|     Devaney|9164|4.3076923076923075|\n",
      "|    3679|  Michael|        Cann|3221|4.3076923076923075|\n",
      "|    1682|    David|       Ahlin|1116| 4.304347826086956|\n",
      "|    1357|    Aaron|     Asplund|8543| 4.304347826086956|\n",
      "|    3214|  Stephen|    Todoroff|8731| 4.304347826086956|\n",
      "|    1792|    Betty|      ODwyer|5530| 4.285714285714286|\n",
      "|    3156|Katherine|        West|8921| 4.285714285714286|\n",
      "|    3354|    Masha|      Harper|7195| 4.285714285714286|\n",
      "|    1853|    Frank|      Harris|2031|4.2727272727272725|\n",
      "|    1363|Christine| Saundercock|6373|4.2727272727272725|\n",
      "|    1950|    David|    Futrelle|5433|4.2727272727272725|\n",
      "|    2833|      Amy|  Sirayanian|9514|4.2727272727272725|\n",
      "|    2564|  Volodya|     Franchi|2206| 4.266666666666667|\n",
      "|    3317|Christina|     Laroche|9616| 4.266666666666667|\n",
      "|    1795|  Rebecca|      Crease|6106|4.2631578947368425|\n",
      "+--------+---------+------------+----+------------------+\n",
      "\n"
     ]
    }
   ],
   "source": [
    "TOP_N_DRIVERS = 50\n",
    "var1 = (\n",
    "    (\n",
    "        lab_data.groupBy(\"DriverId\")\n",
    "        .agg(F.avg(\"DriverRate\").alias(\"Rating\"))\n",
    "    )\n",
    "    .alias(\"result\")\n",
    "    .join(\n",
    "        drivers_dataframe.alias(\"drivers_meta\"),\n",
    "        lab_data.DriverId == drivers_dataframe.Id\n",
    "    )\n",
    "    .select(\n",
    "        \"result.DriverId\",\n",
    "        \"drivers_meta.Name\",\n",
    "        \"drivers_meta.Surname\",\n",
    "        \"drivers_meta.Car\",\n",
    "        \"result.Rating\"\n",
    "    ).orderBy(F.desc(\"Rating\")).limit(TOP_N_DRIVERS)\n",
    ")\n",
    "var1.show(TOP_N_DRIVERS)\n"
   ]
  },
  {
   "cell_type": "markdown",
   "metadata": {
    "id": "v2DUS3pT-XLH"
   },
   "source": [
    "# Варіант 2"
   ]
  },
  {
   "cell_type": "markdown",
   "metadata": {
    "id": "qlWDYvvFSM3N"
   },
   "source": [
    "## кого з водіїв ми маємо зняти з нашої системи ( рейтинг менше 3,5)"
   ]
  },
  {
   "cell_type": "code",
   "execution_count": 30,
   "metadata": {
    "colab": {
     "base_uri": "https://localhost:8080/"
    },
    "id": "xz08iGdyAj2x",
    "outputId": "37420cd6-ebeb-4c97-cffb-99c3f7ff630f"
   },
   "outputs": [
    {
     "name": "stdout",
     "output_type": "stream",
     "text": [
      "+--------+-----------+-------------+----+------------------+\n",
      "|DriverId|Name       |Surname      |Car |Rating            |\n",
      "+--------+-----------+-------------+----+------------------+\n",
      "|3209    |Christine  |Sirayanian   |7456|2.6470588235294117|\n",
      "|2709    |Stephanie  |ODwyer       |3244|2.75              |\n",
      "|3844    |Zachary    |Franchi      |6440|2.769230769230769 |\n",
      "|3351    |Kathleen   |Goodwin      |2474|2.7857142857142856|\n",
      "|1409    |Judith     |Sloper       |3178|2.8421052631578947|\n",
      "|3580    |James      |Uruchurtu    |3672|2.857142857142857 |\n",
      "|3006    |Jeremy     |Meyer        |7534|2.875             |\n",
      "|1578    |Efrosinia  |Panula       |6610|2.875             |\n",
      "|3410    |John       |Williams     |9231|2.8823529411764706|\n",
      "|2675    |Brenda     |Spencer      |5251|2.8823529411764706|\n",
      "|3315    |Carolyn    |ODriscoll    |2569|2.888888888888889 |\n",
      "|2663    |Jose       |Harris       |3370|2.888888888888889 |\n",
      "|3930    |David      |Novel        |1002|2.8947368421052633|\n",
      "|2333    |Diane      |Meyer        |1600|2.9               |\n",
      "|2780    |Judith     |Sandstrom    |1900|2.9047619047619047|\n",
      "|3356    |Amy        |Masselmani   |4554|2.9166666666666665|\n",
      "|1139    |Heather    |Kraeff       |7812|2.9285714285714284|\n",
      "|1497    |John       |McCarthy     |1554|2.933333333333333 |\n",
      "|1155    |Diane      |Faunthorpe   |1893|2.9411764705882355|\n",
      "|1751    |Peter      |Goodwin      |8519|2.9411764705882355|\n",
      "|2591    |Jennifer   |Allen        |3913|2.9411764705882355|\n",
      "|3973    |Michelle   |Abihashvili  |1307|2.9411764705882355|\n",
      "|2588    |Andrew     |Skoog        |9551|2.9444444444444446|\n",
      "|1969    |Mary       |Asplund      |9509|2.95              |\n",
      "|2544    |Zachary    |Harper       |6844|2.95              |\n",
      "|3345    |Justin     |Saundercock  |7455|2.9523809523809526|\n",
      "|3208    |Angela     |Cumings      |8245|2.9642857142857144|\n",
      "|1812    |Susan      |Moran        |6109|3.0               |\n",
      "|1043    |Shirley    |Asplund      |2637|3.0               |\n",
      "|1851    |Maria      |Nye          |8085|3.0               |\n",
      "|3793    |Amanda     |Sirayanian   |5263|3.0               |\n",
      "|3836    |Diane      |Schevchenko  |8074|3.0               |\n",
      "|2484    |Julie      |Glynn        |2071|3.0               |\n",
      "|3057    |Deborah    |Cann         |8029|3.0               |\n",
      "|2791    |Ronald     |ODriscoll    |6913|3.0               |\n",
      "|3965    |Edward     |Glynn        |2651|3.0               |\n",
      "|3856    |Brian      |Asplund      |8872|3.0               |\n",
      "|2230    |Ryan       |Abihashvili  |1843|3.0               |\n",
      "|3533    |Harold     |Samaan       |8068|3.0               |\n",
      "|2595    |Noah       |Sandstrom    |2528|3.0               |\n",
      "|2742    |Joseph     |Ahlin        |5405|3.0               |\n",
      "|1721    |Patrick    |Turpin       |4134|3.0               |\n",
      "|2363    |Daniel     |Moran        |7055|3.0384615384615383|\n",
      "|1101    |Jennifer   |Kink         |3756|3.04              |\n",
      "|2208    |Kyle       |Meyer        |9831|3.04              |\n",
      "|3437    |Emma       |Wheadon      |2184|3.0416666666666665|\n",
      "|3911    |Benjamin   |Heikkinen    |9464|3.0416666666666665|\n",
      "|3147    |Kenneth    |McGowan      |7151|3.0434782608695654|\n",
      "|3821    |Ryan       |Ostby        |9313|3.0476190476190474|\n",
      "|1040    |Jeffrey    |Harris       |2851|3.0476190476190474|\n",
      "|3118    |Daniel     |Heikkinen    |4016|3.05              |\n",
      "|2565    |Jason      |Meyer        |6524|3.05              |\n",
      "|3215    |Larry      |Futrelle     |3144|3.05              |\n",
      "|2701    |Scott      |Samaan       |5776|3.0526315789473686|\n",
      "|3169    |Jeffrey    |Skoog        |6348|3.0526315789473686|\n",
      "|2783    |Roger      |Holverson    |8200|3.0526315789473686|\n",
      "|2926    |Amy        |Morozov      |9972|3.0526315789473686|\n",
      "|1057    |Andrea     |Fortune      |4647|3.0526315789473686|\n",
      "|1671    |Gloria     |Rice         |7429|3.0555555555555554|\n",
      "|2468    |Donna      |Sloper       |9811|3.0555555555555554|\n",
      "|3742    |Christian  |Asplund      |6727|3.0588235294117645|\n",
      "|2121    |Valera     |Abihashvili  |7363|3.0588235294117645|\n",
      "|2952    |Jason      |Sloper       |9819|3.0625            |\n",
      "|2662    |Dennis     |Franchi      |7401|3.0625            |\n",
      "|1313    |Evelyn     |Samaan       |3809|3.0625            |\n",
      "|2027    |Stephanie  |Williams     |3387|3.0625            |\n",
      "|3204    |Aaron      |Jenkin       |4356|3.066666666666667 |\n",
      "|3761    |Emily      |Stewart      |9342|3.066666666666667 |\n",
      "|1840    |Alexander  |Novel        |9235|3.066666666666667 |\n",
      "|1125    |Larry      |Jenkin       |2331|3.066666666666667 |\n",
      "|1572    |Patrick    |Hewlett      |3593|3.0714285714285716|\n",
      "|1958    |Kenneth    |Ahlin        |9191|3.0714285714285716|\n",
      "|1594    |Nancy      |Rugg         |1408|3.076923076923077 |\n",
      "|3728    |Steven     |Mamee        |7955|3.076923076923077 |\n",
      "|3026    |Evelyn     |Futrelle     |1912|3.076923076923077 |\n",
      "|2057    |Frank      |Nye          |2372|3.076923076923077 |\n",
      "|1570    |Andrew     |Sirayanian   |8057|3.090909090909091 |\n",
      "|2314    |Kimberly   |Schevchenko  |7329|3.0952380952380953|\n",
      "|3524    |Kenneth    |ODriscoll    |6673|3.0952380952380953|\n",
      "|1645    |Megan      |Ahlin        |3646|3.0952380952380953|\n",
      "|1328    |Deborah    |Panula       |4870|3.1               |\n",
      "|3020    |Volodya    |Rice         |7476|3.1               |\n",
      "|2217    |Paul       |Wheadon      |4490|3.1               |\n",
      "|2713    |Stephanie  |Williams     |3986|3.1               |\n",
      "|2101    |Judith     |McGowan      |7754|3.1052631578947367|\n",
      "|3987    |Joyce      |Johnson      |6907|3.107142857142857 |\n",
      "|1281    |Kathleen   |Holverson    |4349|3.111111111111111 |\n",
      "|3471    |Zachary    |Holverson    |7013|3.111111111111111 |\n",
      "|2945    |Peter      |Lennon       |7256|3.111111111111111 |\n",
      "|1331    |Frank      |ODriscoll    |6042|3.111111111111111 |\n",
      "|3016    |Amy        |Sandstrom    |1358|3.111111111111111 |\n",
      "|1442    |William    |Braund       |6668|3.1176470588235294|\n",
      "|3493    |Kimberly   |Ostby        |7603|3.125             |\n",
      "|1834    |Eric       |Mamee        |7680|3.125             |\n",
      "|1599    |Martha     |Morozov      |1372|3.125             |\n",
      "|1650    |Michelle   |Williams     |4002|3.125             |\n",
      "|1307    |Larry      |Braund       |2631|3.125             |\n",
      "|1056    |Christopher|Hood         |2315|3.130434782608696 |\n",
      "|3790    |Carol      |Allen        |2115|3.130434782608696 |\n",
      "|2980    |Douglas    |Harper       |2126|3.1333333333333333|\n",
      "|2257    |Amy        |Bonnell      |1987|3.1363636363636362|\n",
      "|2179    |Frances    |Panula       |2771|3.1363636363636362|\n",
      "|3267    |Walter     |Beesley      |5023|3.1379310344827585|\n",
      "|1673    |Jack       |Devaney      |4909|3.142857142857143 |\n",
      "|1809    |Vsevolod   |Samaan       |6883|3.142857142857143 |\n",
      "|2220    |Helen      |Jenkin       |1641|3.142857142857143 |\n",
      "|1575    |Kelly      |Todoroff     |1810|3.142857142857143 |\n",
      "|2349    |Eva        |Allen        |2857|3.142857142857143 |\n",
      "|2886    |Jason      |Jenkin       |4399|3.1481481481481484|\n",
      "|2378    |Adam       |Asplund      |5079|3.1481481481481484|\n",
      "|2996    |Nancy      |Vestrom      |6597|3.15              |\n",
      "|1316    |Virginia   |Holverson    |7121|3.15              |\n",
      "|1386    |Ashley     |Devaney      |2430|3.15              |\n",
      "|2102    |Terry      |Meyer        |1269|3.15              |\n",
      "|1870    |Eric       |Goodwin      |1628|3.15              |\n",
      "|3526    |Laura      |Goodwin      |2673|3.15              |\n",
      "|1471    |Hannah     |Devaney      |3812|3.15              |\n",
      "|3497    |Betty      |Fynney       |4669|3.1538461538461537|\n",
      "|3678    |Cheryl     |West         |1314|3.1538461538461537|\n",
      "|1563    |Richard    |ODriscoll    |9316|3.1538461538461537|\n",
      "|1490    |Betty      |Bonnell      |8395|3.1538461538461537|\n",
      "|1825    |Joan       |McCarthy     |8896|3.1538461538461537|\n",
      "|1419    |Ethan      |Yarred       |5439|3.1578947368421053|\n",
      "|3081    |Nicholas   |Rice         |8164|3.1578947368421053|\n",
      "|3148    |David      |Spencer      |4132|3.1578947368421053|\n",
      "|2251    |Kelly      |Masselmani   |9546|3.1578947368421053|\n",
      "|2146    |Harold     |McCarthy     |5969|3.16              |\n",
      "|2903    |Jerry      |Sloper       |9574|3.1666666666666665|\n",
      "|2573    |Stephen    |Cumings      |8849|3.1666666666666665|\n",
      "|2437    |Joan       |Kink         |7659|3.1666666666666665|\n",
      "|2637    |Donald     |Wheadon      |6703|3.1666666666666665|\n",
      "|1477    |Mary       |Andersson    |6134|3.1666666666666665|\n",
      "|3054    |Mark       |Vestrom      |5398|3.1666666666666665|\n",
      "|2139    |Kenneth    |Hood         |9634|3.1666666666666665|\n",
      "|1798    |Eva        |Abihashvili  |5809|3.1666666666666665|\n",
      "|1826    |Helen      |Glynn        |8218|3.1666666666666665|\n",
      "|1531    |Douglas    |Harper       |6526|3.1739130434782608|\n",
      "|3766    |Katherine  |Schevchenko  |9042|3.1739130434782608|\n",
      "|2766    |Masha      |Andersson    |7691|3.176470588235294 |\n",
      "|2978    |Michael    |Cann         |1773|3.176470588235294 |\n",
      "|1306    |Terry      |Jenkin       |5148|3.176470588235294 |\n",
      "|3387    |Edward     |McCarthy     |2731|3.176470588235294 |\n",
      "|1289    |Brian      |Harper       |2880|3.1818181818181817|\n",
      "|2137    |Julie      |Devaney      |9622|3.1818181818181817|\n",
      "|3032    |Timothy    |Asplund      |2718|3.1818181818181817|\n",
      "|3631    |Kyle       |Franchi      |3297|3.1818181818181817|\n",
      "|2412    |Joshua     |Nosworthy    |3493|3.1818181818181817|\n",
      "|2017    |Justin     |Ostby        |3488|3.1818181818181817|\n",
      "|1871    |Efrosinia  |Saundercock  |7499|3.1875            |\n",
      "|3321    |Gregory    |Todoroff     |3586|3.1875            |\n",
      "|1536    |Raymond    |Moubarek     |6725|3.1875            |\n",
      "|1975    |Gerald     |Mamee        |4305|3.1875            |\n",
      "|2014    |Jeffrey    |Kink         |6761|3.1904761904761907|\n",
      "|2795    |Margaret   |Masselmani   |4557|3.1904761904761907|\n",
      "|2699    |Christine  |Kink         |2882|3.1904761904761907|\n",
      "|1181    |Patricia   |Morozov      |2761|3.2               |\n",
      "|2558    |Barbara    |Uruchurtu    |9732|3.2               |\n",
      "|2730    |Martha     |Johnson      |6435|3.2               |\n",
      "|2634    |Scott      |Turpin       |5811|3.2               |\n",
      "|2252    |Karen      |Harris       |7854|3.2               |\n",
      "|3874    |Scott      |Rugg         |7107|3.2               |\n",
      "|2407    |Matthew    |McCarthy     |1700|3.2               |\n",
      "|3045    |Sandra     |McGowan      |1446|3.2               |\n",
      "|1421    |Vsevolod   |Nosworthy    |5724|3.2               |\n",
      "|3312    |Mark       |Abihashvili  |1134|3.2               |\n",
      "|2281    |Jennifer   |McCarthy     |9986|3.2               |\n",
      "|1749    |Aaron      |Heikkinen    |3155|3.2               |\n",
      "|2371    |Benjamin   |Devaney      |9862|3.2083333333333335|\n",
      "|3192    |Larry      |Abihashvili  |3159|3.2083333333333335|\n",
      "|3723    |Jacob      |Heikkinen    |3134|3.2083333333333335|\n",
      "|2173    |Barbara    |Franchi      |4054|3.210526315789474 |\n",
      "|3964    |Terry      |Chronopoulos |7688|3.210526315789474 |\n",
      "|3230    |Michael    |Cann         |7586|3.210526315789474 |\n",
      "|2319    |Emma       |Abihashvili  |3204|3.210526315789474 |\n",
      "|1127    |Sarah      |Wheadon      |7033|3.210526315789474 |\n",
      "|2416    |Karen      |Beesley      |6951|3.210526315789474 |\n",
      "|1856    |Justin     |Sandstrom    |2754|3.210526315789474 |\n",
      "|1171    |Scott      |Saundercock  |5749|3.210526315789474 |\n",
      "|3388    |Jose       |Masselmani   |6393|3.2142857142857144|\n",
      "|1364    |Helen      |Crease       |1581|3.2142857142857144|\n",
      "|1262    |Deborah    |Fortune      |4420|3.2142857142857144|\n",
      "|2350    |Jeremy     |Masselmani   |3036|3.2142857142857144|\n",
      "|3490    |Noah       |Allen        |8937|3.217391304347826 |\n",
      "|1228    |Charles    |Ahlin        |5471|3.217391304347826 |\n",
      "|1803    |Benjamin   |Nye          |8044|3.217391304347826 |\n",
      "|1791    |Zachary    |Allen        |5061|3.2222222222222223|\n",
      "|3000    |Ronald     |Turpin       |2660|3.2222222222222223|\n",
      "|1110    |Larry      |Panula       |6438|3.2222222222222223|\n",
      "|1047    |Joyce      |Hewlett      |3551|3.2222222222222223|\n",
      "|1974    |Shirley    |Abihashvili  |8281|3.2222222222222223|\n",
      "|2630    |Pamela     |Laroche      |4563|3.2222222222222223|\n",
      "|2202    |Larry      |Woolner      |1594|3.2222222222222223|\n",
      "|2385    |Walter     |McGowan      |6968|3.225806451612903 |\n",
      "|3604    |Jack       |Harris       |2461|3.227272727272727 |\n",
      "|1036    |Hannah     |Crease       |7610|3.227272727272727 |\n",
      "|2904    |Carol      |Vander Planke|1911|3.227272727272727 |\n",
      "|3034    |Carol      |Fortune      |3633|3.227272727272727 |\n",
      "|3566    |Scott      |Morozov      |5030|3.227272727272727 |\n",
      "|1071    |Scott      |Andersson    |6986|3.230769230769231 |\n",
      "|1624    |Susan      |Saundercock  |6501|3.230769230769231 |\n",
      "|2207    |Andrew     |Novel        |5219|3.230769230769231 |\n",
      "|1315    |Alexander  |Franchi      |6500|3.230769230769231 |\n",
      "|1753    |Megan      |Futrelle     |4749|3.230769230769231 |\n",
      "|2940    |Janet      |Saundercock  |3421|3.235294117647059 |\n",
      "|3111    |Daniel     |Sirayanian   |5466|3.235294117647059 |\n",
      "|1869    |Mark       |Sloper       |1282|3.235294117647059 |\n",
      "|1984    |Daniel     |Harper       |6496|3.235294117647059 |\n",
      "|2843    |John       |Kraeff       |4398|3.235294117647059 |\n",
      "|3116    |Jack       |Johnson      |6014|3.235294117647059 |\n",
      "|2061    |Janet      |Jenkin       |5973|3.235294117647059 |\n",
      "|2143    |Brian      |Cumings      |8791|3.235294117647059 |\n",
      "|1766    |Tyler      |Turpin       |5281|3.235294117647059 |\n",
      "|1945    |Terry      |Moubarek     |5334|3.238095238095238 |\n",
      "|2298    |Harold     |Cumings      |4523|3.238095238095238 |\n",
      "|2292    |Henry      |Asplund      |4759|3.24              |\n",
      "|1001    |Daniel     |Franchi      |6404|3.24              |\n",
      "|3624    |Ruth       |Glynn        |5656|3.24              |\n",
      "|1830    |Joyce      |Vestrom      |8860|3.25              |\n",
      "|1457    |Tyler      |Holverson    |6316|3.25              |\n",
      "|3133    |Carolyn    |Mamee        |5137|3.25              |\n",
      "|2938    |Harold     |Masselmani   |7193|3.25              |\n",
      "|3164    |Lisa       |Futrelle     |4059|3.25              |\n",
      "|1012    |Ethan      |Chronopoulos |6027|3.25              |\n",
      "|3752    |Virginia   |Vander Planke|5763|3.25              |\n",
      "|3097    |Deborah    |Nosworthy    |2529|3.25              |\n",
      "|2095    |Lisa       |Laroche      |2793|3.25              |\n",
      "|3053    |Donna      |Yarred       |1674|3.25              |\n",
      "|2641    |Betty      |Schevchenko  |7840|3.25              |\n",
      "|3409    |Christian  |Kraeff       |7530|3.25              |\n",
      "|2163    |Roger      |McGowan      |5598|3.25              |\n",
      "|1942    |Jennifer   |Todoroff     |2060|3.25              |\n",
      "|1249    |Scott      |Abihashvili  |2786|3.2580645161290325|\n",
      "|3499    |Thomas     |ODwyer       |1422|3.2580645161290325|\n",
      "|2875    |Deborah    |Kink         |2709|3.2580645161290325|\n",
      "|2605    |Carl       |Novel        |9297|3.260869565217391 |\n",
      "|3087    |Rachel     |Moran        |4958|3.260869565217391 |\n",
      "|3571    |Cynthia    |Harris       |5767|3.260869565217391 |\n",
      "|1916    |Kathleen   |Turpin       |9040|3.263157894736842 |\n",
      "|2182    |Jennifer   |Harris       |9595|3.263157894736842 |\n",
      "|1405    |Jonathan   |ODriscoll    |4058|3.263157894736842 |\n",
      "|1842    |Martha     |ODwyer       |2436|3.263157894736842 |\n",
      "|3454    |Jason      |Devaney      |9432|3.263157894736842 |\n",
      "|2265    |Brenda     |Saundercock  |1296|3.263157894736842 |\n",
      "|3112    |Mary       |Abihashvili  |9381|3.263157894736842 |\n",
      "|1009    |Sharon     |Morozov      |7536|3.263157894736842 |\n",
      "|3810    |Patricia   |Schevchenko  |7988|3.263157894736842 |\n",
      "|1988    |Hannah     |Hood         |6224|3.263157894736842 |\n",
      "|1532    |Ethan      |Chronopoulos |7500|3.263157894736842 |\n",
      "|1600    |Patrick    |Rice         |8286|3.2666666666666666|\n",
      "|1664    |Timothy    |Sloper       |7776|3.2666666666666666|\n",
      "|3043    |Terry      |Samaan       |8993|3.2666666666666666|\n",
      "|3329    |Benjamin   |Abihashvili  |4213|3.2666666666666666|\n",
      "|3559    |Vsevolod   |Harris       |8694|3.2666666666666666|\n",
      "|3073    |Donald     |McCarthy     |2380|3.2666666666666666|\n",
      "|1514    |Donna      |Cumings      |1347|3.2666666666666666|\n",
      "|2177    |Diane      |Crease       |7611|3.269230769230769 |\n",
      "|1719    |Nathan     |Vestrom      |8521|3.269230769230769 |\n",
      "|3167    |Kelly      |Kraeff       |2465|3.269230769230769 |\n",
      "|1158    |Ashley     |Novel        |4076|3.272727272727273 |\n",
      "|3141    |Robert     |Yarred       |6839|3.272727272727273 |\n",
      "|3440    |Maria      |Bonnell      |1052|3.272727272727273 |\n",
      "|1511    |Elizabeth  |Harris       |3339|3.272727272727273 |\n",
      "|3900    |David      |Bonnell      |2978|3.272727272727273 |\n",
      "|2933    |Diane      |Hewlett      |1462|3.272727272727273 |\n",
      "|2574    |Jennifer   |Kraeff       |8766|3.272727272727273 |\n",
      "|2498    |Paul       |Harris       |1848|3.272727272727273 |\n",
      "|3378    |Ruth       |Sandstrom    |7973|3.272727272727273 |\n",
      "|1055    |Laura      |Hewlett      |2741|3.272727272727273 |\n",
      "|1557    |Efrosinia  |Ahlin        |3004|3.2758620689655173|\n",
      "|3446    |Charles    |Morozov      |4776|3.2777777777777777|\n",
      "|1994    |Maria      |Wheadon      |1218|3.2777777777777777|\n",
      "|3163    |Heather    |Uruchurtu    |1979|3.2777777777777777|\n",
      "|2103    |Ashley     |Uruchurtu    |6099|3.2777777777777777|\n",
      "|2382    |Sarah      |Uruchurtu    |7605|3.2777777777777777|\n",
      "|3439    |Larry      |Bonnell      |1066|3.2777777777777777|\n",
      "|3888    |Rebecca    |Stewart      |3448|3.2777777777777777|\n",
      "|2130    |Aaron      |Fortune      |9767|3.2777777777777777|\n",
      "|1073    |Scott      |Nye          |7645|3.2777777777777777|\n",
      "|2106    |John       |Jenkin       |2182|3.28              |\n",
      "|2310    |Ruth       |Glynn        |7390|3.28              |\n",
      "|2116    |Eva        |Rogers       |1648|3.2857142857142856|\n",
      "|2790    |Alexander  |Rice         |5945|3.2857142857142856|\n",
      "|3735    |Terry      |Franchi      |9085|3.2857142857142856|\n",
      "|2545    |Virginia   |Palsson      |6310|3.2857142857142856|\n",
      "|1939    |Cynthia    |Cann         |2435|3.2857142857142856|\n",
      "|3961    |Christopher|Wheadon      |5405|3.2857142857142856|\n",
      "|1290    |Matthew    |Holverson    |3705|3.2857142857142856|\n",
      "|3560    |Brian      |Nosworthy    |2744|3.2857142857142856|\n",
      "|2916    |Hannah     |Kraeff       |9338|3.2857142857142856|\n",
      "|3916    |Samuel     |Sloper       |7494|3.2857142857142856|\n",
      "|2020    |David      |Icard        |3925|3.2857142857142856|\n",
      "|2622    |Daniel     |ODwyer       |8644|3.2916666666666665|\n",
      "|2645    |Jacqueline |Harper       |9518|3.2916666666666665|\n",
      "|1924    |Patricia   |Ahlin        |5252|3.2916666666666665|\n",
      "|3431    |Angela     |Sirayanian   |5907|3.2941176470588234|\n",
      "|1484    |Debra      |Panula       |2691|3.2941176470588234|\n",
      "|2325    |Lisa       |Harper       |4062|3.2941176470588234|\n",
      "|2166    |Matthew    |Icard        |8146|3.2941176470588234|\n",
      "|2356    |Gregory    |Uruchurtu    |9996|3.2962962962962963|\n",
      "|2725    |Emma       |Beesley      |7010|3.3               |\n",
      "|1076    |Peter      |Crease       |2442|3.3               |\n",
      "|1218    |Nathan     |Franchi      |1489|3.3               |\n",
      "|2428    |Jessica    |Schevchenko  |3839|3.3               |\n",
      "|3688    |Brandon    |Glynn        |2514|3.3               |\n",
      "|1215    |Vsevolod   |Cann         |6863|3.3               |\n",
      "|2362    |Emily      |Sandstrom    |3542|3.3               |\n",
      "|1934    |Jack       |Braund       |5569|3.3               |\n",
      "|1761    |Nicole     |Beesley      |5410|3.3               |\n",
      "|2726    |Helen      |Yarred       |3594|3.3043478260869565|\n",
      "|2460    |Brandon    |Todoroff     |6377|3.3043478260869565|\n",
      "|1182    |Catherine  |Sandstrom    |7174|3.3043478260869565|\n",
      "|2652    |Valera     |Rugg         |8214|3.3043478260869565|\n",
      "|3815    |Olivia     |Stewart      |5160|3.3043478260869565|\n",
      "|3763    |Donna      |Andersson    |1343|3.3043478260869565|\n",
      "|1111    |Samantha   |Bonnell      |4203|3.3076923076923075|\n",
      "|1417    |Volodya    |Morozov      |3954|3.3076923076923075|\n",
      "|1844    |Nancy      |Fynney       |7237|3.3076923076923075|\n",
      "|3998    |Roger      |Masselmani   |1641|3.3076923076923075|\n",
      "|3932    |Alexander  |Sandstrom    |6513|3.3076923076923075|\n",
      "|3941    |Volodya    |Turpin       |5487|3.3076923076923075|\n",
      "|2189    |Keith      |Wheadon      |1215|3.3076923076923075|\n",
      "|2152    |Helen      |Todoroff     |1168|3.3076923076923075|\n",
      "|1544    |Julie      |Heikkinen    |7458|3.3076923076923075|\n",
      "|1659    |Laura      |Ahlin        |6598|3.3076923076923075|\n",
      "|1769    |Gary       |Bonnell      |8423|3.3125            |\n",
      "|2180    |Christine  |Rice         |7111|3.3125            |\n",
      "|1597    |Gloria     |Futrelle     |6147|3.3125            |\n",
      "|1083    |Rachel     |Wheadon      |8300|3.3125            |\n",
      "|3142    |Janet      |Goodwin      |2726|3.3125            |\n",
      "|1706    |Lisa       |Jenkin       |8806|3.3125            |\n",
      "|2995    |Jonathan   |ODwyer       |2611|3.3125            |\n",
      "|1669    |Alexander  |Skoog        |4418|3.3125            |\n",
      "|2369    |Martha     |Jenkin       |4508|3.3157894736842106|\n",
      "|2787    |Patricia   |Laroche      |3845|3.3157894736842106|\n",
      "|1400    |Edward     |Nosworthy    |7879|3.3157894736842106|\n",
      "|2316    |Gary       |Nosworthy    |6140|3.3157894736842106|\n",
      "|2817    |Brian      |Lennon       |3029|3.3157894736842106|\n",
      "|3897    |Michael    |Laroche      |4520|3.3157894736842106|\n",
      "|3907    |Keith      |Uruchurtu    |9248|3.3157894736842106|\n",
      "|1088    |Frank      |Todoroff     |3680|3.3157894736842106|\n",
      "|2282    |Henry      |Panula       |8222|3.3157894736842106|\n",
      "|1347    |Jack       |Holverson    |5873|3.3157894736842106|\n",
      "|3269    |Steven     |Moubarek     |3303|3.3181818181818183|\n",
      "|3262    |Evelyn     |Glynn        |7777|3.3181818181818183|\n",
      "|3285    |Steven     |Samaan       |7488|3.3181818181818183|\n",
      "|2135    |Kyle       |Abihashvili  |8189|3.3181818181818183|\n",
      "|1373    |Michael    |Nosworthy    |8081|3.3181818181818183|\n",
      "|2347    |Dennis     |Fynney       |1998|3.3181818181818183|\n",
      "|2836    |Olivia     |Uruchurtu    |6860|3.3181818181818183|\n",
      "|2264    |Betty      |Andersson    |1263|3.3181818181818183|\n",
      "|3565    |Martha     |Devaney      |2060|3.3181818181818183|\n",
      "|1354    |Jessica    |Asplund      |8086|3.3181818181818183|\n",
      "|1378    |David      |Kink         |9032|3.3181818181818183|\n",
      "|1824    |Margaret   |Hewlett      |3007|3.32              |\n",
      "|2469    |Andrew     |Sloper       |1410|3.32              |\n",
      "|2160    |Christopher|Kink         |7917|3.32              |\n",
      "|2893    |Lauren     |Samaan       |5936|3.32              |\n",
      "|1208    |Andrea     |Futrelle     |1938|3.32              |\n",
      "|1892    |Carol      |Harper       |5846|3.3214285714285716|\n",
      "|2419    |Stephanie  |ODriscoll    |7852|3.3214285714285716|\n",
      "|2733    |Karen      |Uruchurtu    |1491|3.3214285714285716|\n",
      "|3714    |Richard    |Hood         |9297|3.3333333333333335|\n",
      "|1782    |Judith     |Franchi      |8794|3.3333333333333335|\n",
      "|1007    |Dennis     |Heikkinen    |9793|3.3333333333333335|\n",
      "|3564    |Peter      |Novel        |4063|3.3333333333333335|\n",
      "|3165    |Kenneth    |Fortune      |3278|3.3333333333333335|\n",
      "|3297    |Edward     |Bonnell      |6814|3.3333333333333335|\n",
      "|3629    |Michael    |Palsson      |9287|3.3333333333333335|\n",
      "|2692    |Jerry      |Hewlett      |2954|3.3333333333333335|\n",
      "|1790    |Helen      |Novel        |7493|3.3333333333333335|\n",
      "|1486    |Christina  |Beesley      |8104|3.3333333333333335|\n",
      "|2493    |Judith     |Franchi      |9149|3.3333333333333335|\n",
      "|2403    |Laura      |Bonnell      |7074|3.3333333333333335|\n",
      "|3328    |Margaret   |Holverson    |4771|3.3333333333333335|\n",
      "|2840    |Tyler      |Turpin       |5386|3.3333333333333335|\n",
      "|3222    |Frank      |McGowan      |5568|3.3333333333333335|\n",
      "|3058    |Pamela     |Samaan       |7841|3.3333333333333335|\n",
      "|2859    |Tyler      |Kraeff       |4711|3.3333333333333335|\n",
      "|1762    |William    |Franchi      |7749|3.3333333333333335|\n",
      "|1396    |Lauren     |ODriscoll    |8992|3.3333333333333335|\n",
      "|3201    |Laura      |ODwyer       |3540|3.3333333333333335|\n",
      "|2043    |Cheryl     |Heikkinen    |4035|3.3333333333333335|\n",
      "|3700    |Anthony    |Ostby        |9971|3.3333333333333335|\n",
      "|2711    |Janet      |Woolner      |8615|3.3333333333333335|\n",
      "|3518    |Ronald     |Harris       |9664|3.3333333333333335|\n",
      "|2572    |Anthony    |Glynn        |2608|3.3461538461538463|\n",
      "|1845    |Michael    |Woolner      |8672|3.3461538461538463|\n",
      "|3513    |Joseph     |Williams     |8610|3.347826086956522 |\n",
      "|3162    |Timothy    |Skoog        |6807|3.347826086956522 |\n",
      "|1948    |Jennifer   |Jenkin       |4347|3.35              |\n",
      "|1078    |Katherine  |ODwyer       |6200|3.35              |\n",
      "|2891    |Christina  |Hewlett      |1436|3.35              |\n",
      "|3085    |Roger      |Wheadon      |6410|3.35              |\n",
      "|3379    |Efrosinia  |Mamee        |6414|3.35              |\n",
      "|1210    |Deborah    |Stewart      |8511|3.35              |\n",
      "|2592    |Benjamin   |Nye          |7284|3.35              |\n",
      "|1760    |Alexander  |Bonnell      |4564|3.3529411764705883|\n",
      "|1266    |Sandra     |Harris       |3492|3.3529411764705883|\n",
      "|1835    |Jason      |Nosworthy    |4189|3.3529411764705883|\n",
      "|1387    |Charles    |Hood         |6007|3.3529411764705883|\n",
      "|2522    |Andrea     |Williams     |1556|3.3529411764705883|\n",
      "|3541    |Debra      |Morozov      |2156|3.3529411764705883|\n",
      "|2519    |Ashley     |Kink         |3172|3.3529411764705883|\n",
      "|1120    |Daniel     |Spencer      |8654|3.3529411764705883|\n",
      "|2511    |Katherine  |Novel        |2970|3.3529411764705883|\n",
      "|3070    |Matthew    |Glynn        |6903|3.3529411764705883|\n",
      "|2237    |Sandra     |Asplund      |8828|3.3529411764705883|\n",
      "|2955    |Thomas     |Morozov      |1650|3.3529411764705883|\n",
      "|1814    |Kenneth    |Uruchurtu    |6050|3.3529411764705883|\n",
      "|3958    |Catherine  |Todoroff     |5513|3.3529411764705883|\n",
      "|2636    |Brian      |Laroche      |7741|3.3529411764705883|\n",
      "|2578    |Kevin      |Fynney       |9250|3.3529411764705883|\n",
      "|2583    |Judith     |Mamee        |4619|3.357142857142857 |\n",
      "|2985    |William    |Abihashvili  |3806|3.357142857142857 |\n",
      "|3491    |Gerald     |Vestrom      |3661|3.357142857142857 |\n",
      "|1455    |Alexander  |Rogers       |9413|3.357142857142857 |\n",
      "|3047    |Donna      |Morozov      |7814|3.357142857142857 |\n",
      "|3507    |Pamela     |Sandstrom    |4190|3.357142857142857 |\n",
      "|1618    |Nicholas   |Ahlin        |3751|3.357142857142857 |\n",
      "|2829    |George     |McCarthy     |7995|3.357142857142857 |\n",
      "|2250    |Joshua     |Andersson    |4685|3.357142857142857 |\n",
      "|3276    |Karen      |Jenkin       |6223|3.36              |\n",
      "|3618    |Christine  |Hewlett      |2510|3.36              |\n",
      "|3534    |Nathan     |Devaney      |3417|3.3636363636363638|\n",
      "|3482    |Debra      |Kraeff       |5237|3.3636363636363638|\n",
      "|2845    |Nathan     |Masselmani   |9098|3.3636363636363638|\n",
      "|2149    |Gloria     |Hewlett      |8102|3.3636363636363638|\n",
      "|3990    |Andrea     |Sirayanian   |6556|3.3636363636363638|\n",
      "|2987    |Sandra     |Rugg         |5775|3.3636363636363638|\n",
      "|1904    |Helen      |Samaan       |4086|3.3636363636363638|\n",
      "|1632    |Jacqueline |Ostby        |2721|3.3636363636363638|\n",
      "|3650    |Cynthia    |Rugg         |2786|3.3684210526315788|\n",
      "|2413    |Pamela     |Johnson      |2556|3.3684210526315788|\n",
      "|3969    |Donald     |Nosworthy    |7650|3.3684210526315788|\n",
      "|1149    |Zachary    |Williams     |1819|3.3684210526315788|\n",
      "|3596    |Sharon     |McGowan      |7695|3.3684210526315788|\n",
      "|2599    |Charles    |Meyer        |1377|3.3684210526315788|\n",
      "|3731    |Julie      |Andersson    |7735|3.3684210526315788|\n",
      "|1323    |Walter     |Sandstrom    |8827|3.3684210526315788|\n",
      "|2249    |Thomas     |Novel        |3053|3.3684210526315788|\n",
      "|2963    |Shirley    |Sandstrom    |5120|3.3684210526315788|\n",
      "|1084    |Benjamin   |Devaney      |8628|3.3703703703703702|\n",
      "|3544    |Melissa    |Hewlett      |5224|3.3703703703703702|\n",
      "|2214    |Christine  |Kraeff       |5459|3.375             |\n",
      "|2672    |James      |Nye          |5874|3.375             |\n",
      "|2140    |Ashley     |Devaney      |5182|3.375             |\n",
      "|3392    |Steven     |Novel        |9263|3.375             |\n",
      "|3050    |Nathan     |Masselmani   |6293|3.375             |\n",
      "|2515    |Karen      |Harris       |3132|3.375             |\n",
      "|2457    |Frank      |Yarred       |5365|3.375             |\n",
      "|2297    |Dennis     |Sandstrom    |3045|3.375             |\n",
      "|3617    |Christopher|McGowan      |6299|3.375             |\n",
      "|1789    |Justin     |Crease       |9645|3.375             |\n",
      "|2601    |Matthew    |Jenkin       |1774|3.375             |\n",
      "|3425    |Justin     |Vander Planke|2680|3.375             |\n",
      "|1893    |Henry      |Turpin       |1674|3.375             |\n",
      "|2876    |Steven     |Chronopoulos |3354|3.3793103448275863|\n",
      "|2897    |Maria      |Williams     |9884|3.380952380952381 |\n",
      "|3212    |Catherine  |McCarthy     |8203|3.380952380952381 |\n",
      "|2852    |Angela     |Mamee        |1038|3.380952380952381 |\n",
      "|3140    |Kimberly   |Todoroff     |3656|3.380952380952381 |\n",
      "|2317    |Elizabeth  |Morozov      |7818|3.3846153846153846|\n",
      "|3275    |Helen      |Meyer        |2907|3.3846153846153846|\n",
      "|3525    |Lauren     |Harris       |9065|3.3846153846153846|\n",
      "|3174    |Steven     |Harper       |8209|3.3846153846153846|\n",
      "|1416    |Heather    |Todoroff     |2821|3.3846153846153846|\n",
      "|2539    |Matthew    |Icard        |3052|3.3846153846153846|\n",
      "|1394    |Adam       |Chronopoulos |1282|3.3846153846153846|\n",
      "|2799    |Karen      |Johnson      |1635|3.3870967741935485|\n",
      "|2894    |Emily      |Schevchenko  |3243|3.3870967741935485|\n",
      "|1603    |Michelle   |Masselmani   |1717|3.388888888888889 |\n",
      "|3983    |Jason      |McCarthy     |6325|3.388888888888889 |\n",
      "|3538    |Andrew     |Ostby        |6124|3.388888888888889 |\n",
      "|1712    |Deborah    |Abihashvili  |5917|3.388888888888889 |\n",
      "|2616    |Raymond    |Woolner      |7710|3.388888888888889 |\n",
      "|2801    |Ronald     |Devaney      |9406|3.388888888888889 |\n",
      "|1020    |Anthony    |Harper       |1282|3.388888888888889 |\n",
      "|2695    |Nicholas   |Stewart      |3437|3.388888888888889 |\n",
      "|3055    |Amy        |Mamee        |5113|3.388888888888889 |\n",
      "|3010    |Joshua     |Sirayanian   |5046|3.388888888888889 |\n",
      "|3377    |Carol      |Rogers       |1703|3.388888888888889 |\n",
      "|3249    |Aaron      |Ostby        |1078|3.388888888888889 |\n",
      "|1687    |Laura      |Faunthorpe   |6662|3.388888888888889 |\n",
      "|1889    |Joyce      |Nosworthy    |6760|3.391304347826087 |\n",
      "|1035    |Kimberly   |Mamee        |2971|3.391304347826087 |\n",
      "|3384    |Lisa       |Rice         |2550|3.391304347826087 |\n",
      "|1515    |Kathleen   |Vestrom      |2890|3.391304347826087 |\n",
      "|1997    |Keith      |ODriscoll    |4786|3.391304347826087 |\n",
      "|2076    |Betty      |Harris       |1551|3.391304347826087 |\n",
      "|2462    |Melissa    |Devaney      |5791|3.391304347826087 |\n",
      "|2994    |Vsevolod   |Moran        |8197|3.391304347826087 |\n",
      "|1244    |Barbara    |Schevchenko  |9961|3.391304347826087 |\n",
      "|2099    |Angela     |Andersson    |1917|3.391304347826087 |\n",
      "|1912    |John       |Harris       |8880|3.392857142857143 |\n",
      "|1606    |Nicole     |Holverson    |5394|3.4               |\n",
      "|1783    |Rachel     |Kraeff       |8113|3.4               |\n",
      "|1321    |Frances    |Turpin       |2301|3.4               |\n",
      "|1582    |Jack       |Uruchurtu    |9495|3.4               |\n",
      "|3261    |Aaron      |Kraeff       |8740|3.4               |\n",
      "|1838    |Elizabeth  |Spencer      |1195|3.4               |\n",
      "|1275    |Nancy      |Todoroff     |8204|3.4               |\n",
      "|3500    |Jonathan   |Bonnell      |6528|3.4               |\n",
      "|2259    |Walter     |Beesley      |6185|3.4               |\n",
      "|1643    |Dorothy    |Stewart      |5398|3.4               |\n",
      "|1093    |Angela     |Nye          |5534|3.4               |\n",
      "|2551    |Douglas    |Panula       |8770|3.4               |\n",
      "|2188    |Kevin      |Morozov      |1873|3.4               |\n",
      "|3968    |Nicole     |ODwyer       |7439|3.4               |\n",
      "|3338    |Brian      |Meyer        |3663|3.4               |\n",
      "|1491    |Debra      |Hood         |8613|3.4               |\n",
      "|1140    |Joyce      |Bonnell      |4019|3.4               |\n",
      "|3879    |Jerry      |Braund       |3059|3.4               |\n",
      "|2478    |Jerry      |Asplund      |2852|3.4               |\n",
      "|3653    |Alexander  |Spencer      |7323|3.4               |\n",
      "|3593    |Anthony    |Beesley      |1133|3.4               |\n",
      "|2105    |Nathan     |Glynn        |9191|3.4               |\n",
      "|3860    |Carol      |Asplund      |2388|3.4               |\n",
      "|1447    |Dennis     |Skoog        |2128|3.4               |\n",
      "|1847    |Diane      |Beesley      |8918|3.4               |\n",
      "|2030    |Jacqueline |Woolner      |1047|3.4               |\n",
      "|3036    |Tyler      |Chronopoulos |7280|3.4               |\n",
      "|3972    |Terry      |Abihashvili  |6499|3.4               |\n",
      "|3573    |Karen      |Rogers       |2904|3.4               |\n",
      "|2485    |Dorothy    |Vestrom      |7637|3.4074074074074074|\n",
      "|1439    |Shirley    |Laroche      |6351|3.4074074074074074|\n",
      "|1488    |Thomas     |McCarthy     |8619|3.409090909090909 |\n",
      "|1221    |Thomas     |Braund       |7988|3.409090909090909 |\n",
      "|3457    |Debra      |Ahlin        |8421|3.409090909090909 |\n",
      "|2931    |Robert     |Icard        |7282|3.409090909090909 |\n",
      "|1571    |Samuel     |Kraeff       |4780|3.409090909090909 |\n",
      "|2153    |Nancy      |Palsson      |6462|3.411764705882353 |\n",
      "|2548    |Margaret   |Lennon       |8307|3.411764705882353 |\n",
      "|2004    |Samantha   |Nosworthy    |6654|3.411764705882353 |\n",
      "|1979    |Daniel     |Nasser       |7943|3.411764705882353 |\n",
      "|1138    |Jacob      |Vander Planke|8075|3.4166666666666665|\n",
      "|3452    |Vsevolod   |Icard        |7350|3.4166666666666665|\n",
      "|3692    |John       |Sloper       |6066|3.4166666666666665|\n",
      "|3598    |Karen      |Samaan       |4245|3.4166666666666665|\n",
      "|3195    |Joshua     |Cumings      |6490|3.4166666666666665|\n",
      "|3722    |Barbara    |Lennon       |6768|3.4166666666666665|\n",
      "|2035    |Ethan      |McCarthy     |2264|3.4166666666666665|\n",
      "|1897    |Lauren     |Asplund      |8996|3.4166666666666665|\n",
      "|3936    |Carl       |West         |2936|3.4166666666666665|\n",
      "|2332    |Gary       |Beesley      |7541|3.4166666666666665|\n",
      "|3126    |Frances    |Heikkinen    |9008|3.4166666666666665|\n",
      "|1553    |Ethan      |Uruchurtu    |7810|3.4166666666666665|\n",
      "|1905    |Mark       |Fortune      |7506|3.4166666666666665|\n",
      "|2861    |Jeffrey    |West         |3063|3.4166666666666665|\n",
      "|1116    |Jacqueline |Laroche      |5804|3.4166666666666665|\n",
      "|2300    |Judith     |Panula       |5581|3.4210526315789473|\n",
      "|2404    |Margaret   |Icard        |2814|3.4210526315789473|\n",
      "|2957    |Aaron      |Rugg         |2474|3.4210526315789473|\n",
      "|3004    |Jeffrey    |Samaan       |7812|3.4210526315789473|\n",
      "|3218    |Eva        |Ahlin        |8217|3.4210526315789473|\n",
      "|2329    |Vsevolod   |Rice         |2931|3.4210526315789473|\n",
      "|1051    |Amanda     |Jenkin       |7710|3.4210526315789473|\n",
      "|3804    |Deborah    |Turpin       |8329|3.4210526315789473|\n",
      "|2109    |Kelly      |Nye          |7491|3.4210526315789473|\n",
      "|2751    |Thomas     |Sandstrom    |5448|3.4210526315789473|\n",
      "|3530    |Kyle       |Rice         |5840|3.4210526315789473|\n",
      "|1461    |Diane      |Samaan       |4541|3.4210526315789473|\n",
      "|1376    |Amy        |ODwyer       |2723|3.4210526315789473|\n",
      "|2117    |Angela     |Uruchurtu    |6777|3.4210526315789473|\n",
      "|2576    |Lisa       |Moubarek     |9338|3.4210526315789473|\n",
      "|1105    |Terry      |Williams     |3276|3.4210526315789473|\n",
      "|1983    |Jonathan   |Panula       |4601|3.4210526315789473|\n",
      "|1174    |Peter      |Panula       |7198|3.423076923076923 |\n",
      "|3166    |Nicholas   |Braund       |2272|3.423076923076923 |\n",
      "|2638    |Jennifer   |Schevchenko  |3266|3.423076923076923 |\n",
      "|1820    |Carl       |Schevchenko  |9180|3.4285714285714284|\n",
      "|1464    |Douglas    |Ahlin        |8436|3.4285714285714284|\n",
      "|2002    |Nicholas   |Schevchenko  |1186|3.4285714285714284|\n",
      "|1931    |Jose       |Allen        |3354|3.4285714285714284|\n",
      "|2064    |Jeffrey    |Nosworthy    |4341|3.4285714285714284|\n",
      "|1503    |Ashley     |Hood         |2639|3.4285714285714284|\n",
      "|2654    |Harold     |Futrelle     |5400|3.4285714285714284|\n",
      "|2311    |Raymond    |ODwyer       |9387|3.4285714285714284|\n",
      "|2365    |Sandra     |Goodwin      |5289|3.4285714285714284|\n",
      "|1079    |Maria      |Glynn        |3876|3.4285714285714284|\n",
      "|2133    |George     |Samaan       |7933|3.4285714285714284|\n",
      "|2442    |Masha      |Todoroff     |3716|3.4285714285714284|\n",
      "|2243    |Christine  |Faunthorpe   |3384|3.4285714285714284|\n",
      "|2203    |Timothy    |Icard        |2316|3.4285714285714284|\n",
      "|2107    |Lauren     |Spencer      |2898|3.4285714285714284|\n",
      "|1011    |Terry      |Fynney       |5483|3.4285714285714284|\n",
      "|3292    |Debra      |Moran        |2975|3.4285714285714284|\n",
      "|3012    |Gloria     |Chronopoulos |8565|3.4285714285714284|\n",
      "|2936    |Efrosinia  |Saundercock  |1498|3.4285714285714284|\n",
      "|1424    |Christian  |Fortune      |3627|3.4347826086956523|\n",
      "|1044    |Angela     |Morozov      |1431|3.4347826086956523|\n",
      "|3610    |Samuel     |West         |5083|3.4347826086956523|\n",
      "|3242    |Patricia   |Cann         |2351|3.4347826086956523|\n",
      "|1217    |Hannah     |Schevchenko  |6387|3.4347826086956523|\n",
      "|3637    |Janet      |Williams     |2510|3.4347826086956523|\n",
      "|1953    |Charles    |Samaan       |2285|3.4347826086956523|\n",
      "|1715    |Michelle   |Ahlin        |7144|3.4375            |\n",
      "|2581    |David      |Asplund      |1032|3.4375            |\n",
      "|3484    |Kevin      |Asplund      |8440|3.4375            |\n",
      "|2620    |Joan       |Ostby        |6543|3.4375            |\n",
      "|2586    |Julie      |McCarthy     |9454|3.4375            |\n",
      "|1207    |Rebecca    |Lennon       |3107|3.4375            |\n",
      "|3402    |Jonathan   |Mamee        |7817|3.4375            |\n",
      "|2434    |Efrosinia  |Goodwin      |6359|3.4375            |\n",
      "|1118    |Jessica    |Palsson      |3770|3.4375            |\n",
      "|2260    |Sandra     |Cann         |8192|3.4375            |\n",
      "|2235    |Diane      |Andersson    |3179|3.44              |\n",
      "|2665    |Michael    |Skoog        |1120|3.44              |\n",
      "|1164    |Aaron      |Moubarek     |1161|3.44              |\n",
      "|2036    |Sarah      |Holverson    |9842|3.44              |\n",
      "|1605    |Angela     |Beesley      |6675|3.44              |\n",
      "|1185    |Katherine  |Holverson    |4858|3.44              |\n",
      "|3056    |Katherine  |Sirayanian   |1073|3.44              |\n",
      "|1377    |Debra      |Mamee        |8277|3.44              |\n",
      "|3937    |Catherine  |ODwyer       |3675|3.4444444444444446|\n",
      "|2807    |Nicholas   |Woolner      |4762|3.4444444444444446|\n",
      "|3644    |Ryan       |Schevchenko  |4630|3.4444444444444446|\n",
      "|2717    |Joshua     |Sirayanian   |2474|3.4444444444444446|\n",
      "|3837    |Linda      |Nye          |3246|3.4444444444444446|\n",
      "|2656    |Melissa    |Jenkin       |3365|3.4444444444444446|\n",
      "|1097    |Alexander  |Nasser       |4732|3.4444444444444446|\n",
      "|3294    |Rebecca    |Nye          |2084|3.4444444444444446|\n",
      "|3681    |Elizabeth  |Allen        |7098|3.4444444444444446|\n",
      "|2150    |Betty      |Nye          |1323|3.4444444444444446|\n",
      "|3929    |Catherine  |Panula       |2096|3.4444444444444446|\n",
      "|1333    |Richard    |Franchi      |7545|3.4444444444444446|\n",
      "|1496    |Jerry      |Asplund      |9375|3.4444444444444446|\n",
      "|2183    |Amy        |Rugg         |1675|3.4444444444444446|\n",
      "|2421    |Emily      |Rice         |6596|3.4444444444444446|\n",
      "|1006    |Nancy      |Williams     |4303|3.4444444444444446|\n",
      "|1858    |Larry      |Samaan       |2452|3.4444444444444446|\n",
      "|2402    |Jason      |Meyer        |9054|3.4482758620689653|\n",
      "|1108    |Samantha   |Turpin       |9641|3.45              |\n",
      "|1675    |Nicholas   |Holverson    |6444|3.45              |\n",
      "|1555    |Jacqueline |Jenkin       |8919|3.45              |\n",
      "|1538    |Carol      |Moubarek     |8653|3.45              |\n",
      "|1131    |Debra      |Uruchurtu    |3259|3.45              |\n",
      "|1245    |Andrea     |West         |1351|3.45              |\n",
      "|3619    |Nicole     |Heikkinen    |4153|3.45              |\n",
      "|1952    |Melissa    |Spencer      |9569|3.45              |\n",
      "|1008    |Laura      |Bonnell      |2757|3.45              |\n",
      "|3995    |Susan      |Fynney       |2282|3.45              |\n",
      "|2661    |Joshua     |Moubarek     |2563|3.45              |\n",
      "|2517    |Robert     |Schevchenko  |1328|3.45              |\n",
      "|1374    |Aaron      |Hood         |8779|3.45              |\n",
      "|2124    |Benjamin   |Johnson      |8651|3.45              |\n",
      "|3213    |Roger      |Yarred       |5578|3.45              |\n",
      "|2028    |Patricia   |Heikkinen    |5051|3.45              |\n",
      "|3574    |Barbara    |Sloper       |9259|3.45              |\n",
      "|1799    |Jason      |Nye          |8046|3.45              |\n",
      "|3719    |Keith      |Woolner      |9965|3.45              |\n",
      "|2736    |Noah       |Fynney       |2148|3.45              |\n",
      "|3082    |Noah       |Sloper       |4600|3.45              |\n",
      "|1310    |Angela     |Masselmani   |1126|3.4545454545454546|\n",
      "|1998    |Mark       |Chronopoulos |6838|3.4545454545454546|\n",
      "|1170    |Nancy      |Novel        |4275|3.4545454545454546|\n",
      "|1398    |Anna       |Sirayanian   |6889|3.4545454545454546|\n",
      "|1932    |Anna       |Stewart      |8780|3.4545454545454546|\n",
      "|2343    |Joan       |McCarthy     |4723|3.4545454545454546|\n",
      "|1203    |Brandon    |Braund       |7917|3.4545454545454546|\n",
      "|1433    |Carolyn    |Rugg         |2058|3.4545454545454546|\n",
      "|1839    |John       |Woolner      |6649|3.4545454545454546|\n",
      "|2110    |Judith     |Kink         |9597|3.4545454545454546|\n",
      "|2521    |Michael    |Goodwin      |9646|3.4545454545454546|\n",
      "|3289    |Steven     |Fynney       |4607|3.4545454545454546|\n",
      "|2735    |Masha      |Samaan       |3183|3.4545454545454546|\n",
      "|1458    |Sharon     |Mamee        |5049|3.4545454545454546|\n",
      "|2059    |Virginia   |Abihashvili  |6096|3.4545454545454546|\n",
      "|2272    |Cynthia    |ODwyer       |5303|3.4545454545454546|\n",
      "|2340    |Kathleen   |Sandstrom    |1864|3.4545454545454546|\n",
      "|3013    |Rebecca    |Turpin       |1237|3.4583333333333335|\n",
      "|3759    |Noah       |Moran        |2162|3.4583333333333335|\n",
      "|3741    |Benjamin   |Vestrom      |8015|3.4583333333333335|\n",
      "|2280    |Evelyn     |Novel        |3095|3.4583333333333335|\n",
      "|3368    |Shirley    |Lennon       |6627|3.4583333333333335|\n",
      "|1938    |Michelle   |Sandstrom    |2797|3.4583333333333335|\n",
      "|1910    |Zachary    |Harper       |2643|3.4583333333333335|\n",
      "|3442    |Ronald     |Todoroff     |2079|3.4583333333333335|\n",
      "|2041    |Angela     |Crease       |9437|3.4583333333333335|\n",
      "|2023    |Joan       |Mamee        |5909|3.4583333333333335|\n",
      "|3247    |Jacob      |Devaney      |3684|3.4615384615384617|\n",
      "|3041    |Kelly      |Mamee        |4038|3.4615384615384617|\n",
      "|2640    |James      |Schevchenko  |1694|3.4615384615384617|\n",
      "|2828    |Patricia   |Wheadon      |4371|3.4615384615384617|\n",
      "|3295    |Laura      |West         |1846|3.4615384615384617|\n",
      "|2900    |Ryan       |Glynn        |3893|3.4615384615384617|\n",
      "|1807    |Susan      |Johnson      |7109|3.4615384615384617|\n",
      "|1162    |George     |Moran        |7258|3.4615384615384617|\n",
      "|2346    |Maria      |Nye          |2000|3.4642857142857144|\n",
      "|3699    |Alexander  |Yarred       |3074|3.4642857142857144|\n",
      "|1915    |Carl       |Woolner      |5464|3.466666666666667 |\n",
      "|2008    |Joyce      |ODriscoll    |7776|3.466666666666667 |\n",
      "|3687    |Jeremy     |Crease       |6713|3.466666666666667 |\n",
      "|2939    |Roger      |Devaney      |3940|3.466666666666667 |\n",
      "|2606    |John       |Nye          |5729|3.466666666666667 |\n",
      "|2318    |Alexander  |Moran        |7182|3.466666666666667 |\n",
      "|2687    |Shirley    |Cumings      |9911|3.466666666666667 |\n",
      "|2964    |Dorothy    |Rice         |7549|3.466666666666667 |\n",
      "|3202    |Michael    |Uruchurtu    |7590|3.466666666666667 |\n",
      "|1257    |Deborah    |Rice         |3785|3.466666666666667 |\n",
      "|1444    |Alexander  |Lennon       |2134|3.466666666666667 |\n",
      "|2418    |James      |Allen        |5305|3.466666666666667 |\n",
      "|3177    |Shirley    |Samaan       |5878|3.466666666666667 |\n",
      "|1135    |Maria      |Uruchurtu    |2937|3.466666666666667 |\n",
      "|2770    |Justin     |Sloper       |7217|3.4705882352941178|\n",
      "|2042    |Emma       |Samaan       |4925|3.4705882352941178|\n",
      "|1784    |Ashley     |Goodwin      |8031|3.4705882352941178|\n",
      "|1877    |Jason      |Spencer      |6018|3.4705882352941178|\n",
      "|3477    |Hannah     |Icard        |1832|3.4705882352941178|\n",
      "|1481    |Eric       |Novel        |5512|3.4705882352941178|\n",
      "|1696    |James      |Faunthorpe   |2600|3.4705882352941178|\n",
      "|2345    |Carl       |Vander Planke|5228|3.4705882352941178|\n",
      "|1857    |Lauren     |McGowan      |7230|3.4705882352941178|\n",
      "|2562    |Zachary    |Johnson      |8716|3.473684210526316 |\n",
      "|2885    |Charles    |Ahlin        |3365|3.473684210526316 |\n",
      "|1827    |Gerald     |Heikkinen    |4690|3.473684210526316 |\n",
      "|3224    |Mark       |Moran        |6857|3.473684210526316 |\n",
      "|3280    |Aaron      |Kink         |5426|3.473684210526316 |\n",
      "|2279    |Lisa       |Mamee        |8841|3.473684210526316 |\n",
      "|3536    |Aaron      |Asplund      |4868|3.473684210526316 |\n",
      "|2929    |Benjamin   |Nye          |2548|3.473684210526316 |\n",
      "|3481    |William    |Lennon       |2554|3.473684210526316 |\n",
      "|1292    |Ruth       |Nye          |5509|3.473684210526316 |\n",
      "|2473    |Patricia   |Sloper       |8655|3.4761904761904763|\n",
      "|2983    |Sarah      |West         |4993|3.4761904761904763|\n",
      "|2231    |Brian      |Hewlett      |3962|3.4761904761904763|\n",
      "|3048    |Kimberly   |Beesley      |1779|3.4761904761904763|\n",
      "|2670    |Cynthia    |Williams     |4580|3.4761904761904763|\n",
      "|1401    |Anna       |Uruchurtu    |2015|3.4761904761904763|\n",
      "|3572    |Valera     |Allen        |4538|3.4761904761904763|\n",
      "|2943    |Pamela     |Masselmani   |3903|3.4761904761904763|\n",
      "|2693    |Raymond    |West         |1171|3.4761904761904763|\n",
      "|1705    |Anthony    |Saundercock  |4964|3.4761904761904763|\n",
      "|3694    |Emma       |Futrelle     |9406|3.4761904761904763|\n",
      "|1080    |James      |Spencer      |3225|3.4761904761904763|\n",
      "|2610    |Timothy    |Rugg         |3699|3.4782608695652173|\n",
      "|1908    |Jacob      |Samaan       |9966|3.4782608695652173|\n",
      "|2286    |Brandon    |Braund       |6383|3.4782608695652173|\n",
      "|2438    |Kyle       |ODriscoll    |7940|3.4782608695652173|\n",
      "|1060    |Debra      |Harper       |4504|3.4782608695652173|\n",
      "|3835    |Betty      |Beesley      |9563|3.4782608695652173|\n",
      "|2125    |Kenneth    |Nosworthy    |9196|3.4782608695652173|\n",
      "|3076    |Margaret   |Masselmani   |4452|3.4782608695652173|\n",
      "|1186    |Nancy      |Lennon       |6105|3.4782608695652173|\n",
      "|3305    |Angela     |Holverson    |7440|3.4782608695652173|\n",
      "|1156    |Judith     |Chronopoulos |5262|3.4782608695652173|\n",
      "|3586    |Patrick    |Goodwin      |9002|3.48              |\n",
      "|1620    |Paul       |Goodwin      |3643|3.4814814814814814|\n",
      "|3921    |John       |Hewlett      |3992|3.4814814814814814|\n",
      "|2556    |Susan      |Sloper       |2169|3.4814814814814814|\n",
      "|3516    |Olivia     |Stewart      |6921|3.4814814814814814|\n",
      "|3705    |Nancy      |Goodwin      |2983|3.4814814814814814|\n",
      "|3052    |James      |Harris       |1320|3.4827586206896552|\n",
      "|3789    |Amanda     |Meyer        |1377|3.4838709677419355|\n",
      "+--------+-----------+-------------+----+------------------+\n",
      "\n"
     ]
    },
    {
     "data": {
      "text/plain": [
       "753"
      ]
     },
     "execution_count": 30,
     "metadata": {},
     "output_type": "execute_result"
    }
   ],
   "source": [
    "TO_SHOW = 20\n",
    "var2 = (\n",
    "    lab_data.groupBy(\"DriverId\")\n",
    "    .agg(F.avg(\"DriverRate\").alias(\"Rating\"))\n",
    "    .filter(F.col(\"Rating\") < 3.5)\n",
    "    .alias(\"result\")\n",
    "    .join(\n",
    "        drivers_dataframe.alias(\"drivers_meta\"),\n",
    "        lab_data.DriverId == drivers_dataframe.Id,\n",
    "    )\n",
    "    .select(\n",
    "        \"result.DriverId\",\n",
    "        \"drivers_meta.Name\",\n",
    "        \"drivers_meta.Surname\",\n",
    "        \"drivers_meta.Car\",\n",
    "        \"result.Rating\",\n",
    "    )\n",
    "    .orderBy(F.asc(\"Rating\"))\n",
    ")\n",
    "\n",
    "var2.show(var2.count(), truncate = False)\n",
    "var2.count()"
   ]
  },
  {
   "cell_type": "markdown",
   "metadata": {
    "id": "xw5W3VEO-XIy"
   },
   "source": [
    "# Варіант 3"
   ]
  },
  {
   "cell_type": "markdown",
   "metadata": {
    "id": "QXXm1vuGSg_E"
   },
   "source": [
    "## в який проміжок часу здійснюється найбільше поїздок"
   ]
  },
  {
   "cell_type": "code",
   "execution_count": 29,
   "metadata": {
    "colab": {
     "base_uri": "https://localhost:8080/"
    },
    "id": "NbRWZ6I8ENdG",
    "outputId": "38652bba-30e1-4aa2-d17f-8848b18f527b"
   },
   "outputs": [
    {
     "name": "stdout",
     "output_type": "stream",
     "text": [
      "+----------+-------------+\n",
      "|TimePeriod|NumberOfRides|\n",
      "+----------+-------------+\n",
      "|  07:00:00|         4326|\n",
      "+----------+-------------+\n",
      "\n"
     ]
    }
   ],
   "source": [
    "most_riding = (\n",
    "    lab_data.withColumn(\"date\", F.to_date(\"StartTime\"))\n",
    "    .withColumn(\"TimePeriod\", F.date_format(\"StartTime\", \"HH:00:00\"))\n",
    "    .groupBy(\"TimePeriod\")\n",
    "    .count()\n",
    "    .select(\"TimePeriod\", F.col(\"count\").alias(\"NumberOfRides\"))\n",
    "    .orderBy(F.desc(\"NumberOfRides\"))\n",
    "    .limit(1)\n",
    ")\n",
    "most_riding.show()\n"
   ]
  },
  {
   "cell_type": "markdown",
   "metadata": {
    "id": "GLIdR52p-XGK"
   },
   "source": [
    "# Варіант 4"
   ]
  },
  {
   "cell_type": "markdown",
   "metadata": {
    "id": "iYna0CvWTgUX"
   },
   "source": [
    "## топ 50 клієнтів за рейтингом"
   ]
  },
  {
   "cell_type": "code",
   "execution_count": 31,
   "metadata": {
    "colab": {
     "base_uri": "https://localhost:8080/"
    },
    "id": "VfcpBJWJE_EK",
    "outputId": "355433f2-2c3b-4fea-d8ec-3dffd5f28095"
   },
   "outputs": [
    {
     "name": "stdout",
     "output_type": "stream",
     "text": [
      "+------+---------+------------+------+\n",
      "|UserId|     Name|     Surname|Rating|\n",
      "+------+---------+------------+------+\n",
      "| 11227|      Amy|      Turpin|   5.0|\n",
      "| 12232|    Kelly|   Uruchurtu|   5.0|\n",
      "| 13001|     Lisa| Abihashvili|   5.0|\n",
      "| 10028|  Cynthia| Saundercock|   5.0|\n",
      "| 10316|  Volodya|     Beesley|   5.0|\n",
      "| 12448|  Carolyn| Saundercock|   5.0|\n",
      "| 10565|  Kenneth|        Rice|   5.0|\n",
      "| 10848|  Patrick|   Sandstrom|   5.0|\n",
      "| 11352|    Maria|      Rogers|   5.0|\n",
      "| 12932|    Helen|   Holverson|   5.0|\n",
      "| 12691| Nicholas|      Harris|   5.0|\n",
      "| 11934|   Ronald|      Kraeff|   5.0|\n",
      "| 10101|      Amy|       Allen|   5.0|\n",
      "| 12937| Patricia|        Rice|   5.0|\n",
      "| 10767|  Brandon|      Lennon|   5.0|\n",
      "| 13015| Virginia|   Heikkinen|   5.0|\n",
      "| 11096|    Karen|     Woolner|   5.0|\n",
      "| 10159|   Justin|     Hewlett|   5.0|\n",
      "| 10792|     Adam|     Bonnell|   5.0|\n",
      "| 12590|    Jason|      Panula|   5.0|\n",
      "| 12987|     Joan|    Williams|   5.0|\n",
      "| 10127|   Lauren|       Meyer|   5.0|\n",
      "| 12179|   Martha|       Glynn|   5.0|\n",
      "| 12525|    James|       Novel|   5.0|\n",
      "| 11546|     John|     Woolner|   5.0|\n",
      "| 11777|  William|     Woolner|   5.0|\n",
      "| 11282|Alexander|     Stewart|   5.0|\n",
      "| 10593|   Edward|      Harris|   5.0|\n",
      "| 12495|     Joan|     Beesley|   5.0|\n",
      "| 13020|   Ronald|      Fynney|   5.0|\n",
      "| 12895|Elizabeth|         Nye|   5.0|\n",
      "| 12337|    Karen| Schevchenko|   5.0|\n",
      "| 11793|  Carolyn|     Devaney|   5.0|\n",
      "| 11589|   Valera|     Beesley|   5.0|\n",
      "| 10264|   Steven|     Vestrom|   5.0|\n",
      "| 11745|   Brenda|       Skoog|   5.0|\n",
      "| 11767|    Megan|      Braund|   5.0|\n",
      "| 11549| Margaret|     Goodwin|   5.0|\n",
      "| 10743|  Deborah|   Uruchurtu|   5.0|\n",
      "| 12666|   Cheryl|      Harper|   5.0|\n",
      "| 11012|   Judith|      Nasser|   5.0|\n",
      "| 11039|    Jason|     Vestrom|   5.0|\n",
      "| 12837|   Sandra|     Vestrom|   5.0|\n",
      "| 11794|Stephanie|   Uruchurtu|   5.0|\n",
      "| 11886| Jonathan| Abihashvili|   5.0|\n",
      "| 11650|  Shirley|     Spencer|   5.0|\n",
      "| 11412|     John|Chronopoulos|   5.0|\n",
      "| 12624| Kathleen|      Fynney|   5.0|\n",
      "| 12676|Christine| Abihashvili|   5.0|\n",
      "| 12407|    Scott|      Harper|   5.0|\n",
      "+------+---------+------------+------+\n",
      "\n"
     ]
    }
   ],
   "source": [
    "TOP_N_USERS = 50\n",
    "var3 = (\n",
    "    (\n",
    "        lab_data.groupBy(\"UserId\")\n",
    "        .agg(F.avg(\"UserRate\").alias(\"Rating\"))\n",
    "    )\n",
    "    .alias(\"result\")\n",
    "    .join(\n",
    "        users_dataframe.alias(\"users_meta\"),\n",
    "        lab_data.UserId == users_dataframe.Id\n",
    "    )\n",
    "  .select(\n",
    "        \"result.UserId\",\n",
    "        \"users_meta.Name\",\n",
    "        \"users_meta.Surname\",\n",
    "        \"result.Rating\"\n",
    "    ).orderBy(F.desc(\"Rating\")).limit(TOP_N_USERS)\n",
    ")\n",
    "var3.show(TOP_N_USERS)\n"
   ]
  },
  {
   "cell_type": "markdown",
   "metadata": {
    "id": "a2mgvd0Y5d_Q"
   },
   "source": [
    "# Варіант 5"
   ]
  },
  {
   "cell_type": "markdown",
   "metadata": {
    "id": "GOJrEKymTmjd"
   },
   "source": [
    "## топ 100 водів, що заробили найбільше"
   ]
  },
  {
   "cell_type": "code",
   "execution_count": 32,
   "metadata": {
    "colab": {
     "base_uri": "https://localhost:8080/"
    },
    "id": "MwpGb2Fa2tSd",
    "outputId": "5d164cad-9107-4249-9c06-85a3cf646f92"
   },
   "outputs": [
    {
     "name": "stdout",
     "output_type": "stream",
     "text": [
      "+--------+---------+--------+----+------+\n",
      "|DriverId|     Name| Surname| Car| Total|\n",
      "+--------+---------+--------+----+------+\n",
      "|    1677|  Patrick| Vestrom|9153|3081.2|\n",
      "|    1697|   Donald|   Moran|7394|2954.0|\n",
      "|    1806|    Masha| Stewart|9812|2339.6|\n",
      "|    1950|    David|Futrelle|5433|2270.4|\n",
      "|    1010| Nicholas|  Crease|7274|3248.0|\n",
      "|    1224|  Zachary|    Hood|3868|2868.4|\n",
      "|    1258|    Karen|  Nasser|6794|2770.0|\n",
      "|    1277|     John|  Jenkin|7044|2830.8|\n",
      "|    1360|    Linda| Spencer|6395|2268.8|\n",
      "|    1840|Alexander|   Novel|9235|2414.8|\n",
      "+--------+---------+--------+----+------+\n",
      "\n"
     ]
    }
   ],
   "source": [
    "TOP_N_EARNERS = 10\n",
    "var5 = (\n",
    "    (\n",
    "        lab_data.groupBy(\"DriverId\")\n",
    "        .agg(F.sum(\"Price\").alias(\"Total\"))\n",
    "        .orderBy(F.desc(\"Total\"))\n",
    "    )\n",
    "    .alias(\"result\")\n",
    "    .join(\n",
    "        drivers_dataframe.alias(\"drivers_meta\"),\n",
    "        lab_data.DriverId == drivers_dataframe.Id\n",
    "    )\n",
    "    .select(\n",
    "        \"result.DriverId\",\n",
    "        \"drivers_meta.Name\",\n",
    "        \"drivers_meta.Surname\",\n",
    "        \"drivers_meta.Car\",\n",
    "        \"result.Total\"\n",
    "    )\n",
    "    .limit(TOP_N_EARNERS)\n",
    ")\n",
    "var5.show(TOP_N_EARNERS)\n"
   ]
  },
  {
   "cell_type": "markdown",
   "metadata": {
    "id": "Mo4c5kgI-XDl"
   },
   "source": [
    "# Варіант 6"
   ]
  },
  {
   "cell_type": "markdown",
   "metadata": {
    "id": "pS9XP0urTvor"
   },
   "source": [
    "## топ 50 - водіїв, які переважно їздять вночі"
   ]
  },
  {
   "cell_type": "code",
   "execution_count": 33,
   "metadata": {
    "colab": {
     "base_uri": "https://localhost:8080/"
    },
    "id": "ChF2B2loqJre",
    "outputId": "0ff88b47-396e-4bb0-e850-c41d52afbc5e"
   },
   "outputs": [
    {
     "name": "stdout",
     "output_type": "stream",
     "text": [
      "+--------+-------+-------------+-----+\n",
      "|DriverId|   Name|      Surname|count|\n",
      "+--------+-------+-------------+-----+\n",
      "|    1377|  Debra|        Mamee|   23|\n",
      "|    2312|Heather|       Panula|   23|\n",
      "|    1434|Douglas|Vander Planke|   21|\n",
      "|    1274| Andrea|      Woolner|   21|\n",
      "|    3274|   Joan|      Fortune|   21|\n",
      "|    1460|Cynthia|        Glynn|   20|\n",
      "|    1446|  Debra|         West|   20|\n",
      "|    3417|Anthony|      Morozov|   20|\n",
      "|    2817|  Brian|       Lennon|   20|\n",
      "|    2274|  Larry|  Abihashvili|   20|\n",
      "|    1986| Edward|       Samaan|   19|\n",
      "|    1975| Gerald|        Mamee|   19|\n",
      "|    1466| Olivia|       Harper|   19|\n",
      "|    1301|Heather|       Crease|   19|\n",
      "|    1863|  Scott|      Cumings|   19|\n",
      "|    1892|  Carol|       Harper|   19|\n",
      "|    3779|Cynthia|      Goodwin|   19|\n",
      "|    3428|  Henry|       Harper|   19|\n",
      "|    3448|  Debra|     McCarthy|   19|\n",
      "|    3413|  Brian|       Samaan|   19|\n",
      "+--------+-------+-------------+-----+\n",
      "\n"
     ]
    }
   ],
   "source": [
    "from pyspark.sql.types import IntegerType\n",
    "most_riding = (\n",
    "    lab_data.withColumn(\"date\", F.to_date(\"StartTime\"))\n",
    "    .withColumn(\"Hour\", F.substring(\"StartTime\", 12, 2).cast(IntegerType()))\n",
    "    .filter(F.col(\"Hour\") <=6)\n",
    "    .groupBy(\"DriverId\")\n",
    "    .count()\n",
    "    .orderBy(F.desc(\"count\"))\n",
    "    .alias(\"driver_count\")\n",
    "    .join(\n",
    "        drivers_dataframe.alias(\"drivers_meta\"),\n",
    "        lab_data.DriverId == drivers_dataframe.Id\n",
    "    )\n",
    "  .select(\n",
    "        \"driver_count.DriverId\",\n",
    "        \"drivers_meta.Name\",\n",
    "        \"drivers_meta.Surname\",\n",
    "        \"driver_count.count\"\n",
    "    ).orderBy(F.desc(\"count\")).limit(TO_SHOW)   \n",
    "    \n",
    ").show()"
   ]
  },
  {
   "cell_type": "markdown",
   "metadata": {
    "id": "A4yuDKTD-XAz"
   },
   "source": [
    "# Варіант 7"
   ]
  },
  {
   "cell_type": "markdown",
   "metadata": {
    "id": "RTNjzPIlT7Ur"
   },
   "source": [
    "## за що (яка категорія) найчастіше водіїв хвалять"
   ]
  },
  {
   "cell_type": "code",
   "execution_count": 34,
   "metadata": {
    "colab": {
     "base_uri": "https://localhost:8080/"
    },
    "id": "fBgQkRb4Fsqv",
    "outputId": "c33f0fa9-578d-4368-860e-25fb57d207c1"
   },
   "outputs": [
    {
     "name": "stdout",
     "output_type": "stream",
     "text": [
      "+------------+-----+\n",
      "|CategoryType|count|\n",
      "+------------+-----+\n",
      "|     service| 1284|\n",
      "+------------+-----+\n",
      "\n"
     ]
    }
   ],
   "source": [
    "feed_df.filter(F.col(\"FeedbackType\") == True).groupBy(\"CategoryType\").count().orderBy(F.desc(\"count\")).limit(1).show()"
   ]
  },
  {
   "cell_type": "markdown",
   "metadata": {
    "id": "guEfNJKO-W96"
   },
   "source": [
    "# Варіант 8"
   ]
  },
  {
   "cell_type": "markdown",
   "metadata": {
    "id": "PhRphSwpT-7d"
   },
   "source": [
    "## на що (найчастіше) скаржаться клієнти (категорія)"
   ]
  },
  {
   "cell_type": "code",
   "execution_count": 35,
   "metadata": {
    "colab": {
     "base_uri": "https://localhost:8080/"
    },
    "id": "2O6gyprwGec4",
    "outputId": "f78ba15d-93ae-487b-c6fe-6be7383d7b3f"
   },
   "outputs": [
    {
     "name": "stdout",
     "output_type": "stream",
     "text": [
      "+------------+-----+\n",
      "|CategoryType|count|\n",
      "+------------+-----+\n",
      "|       speed| 1319|\n",
      "+------------+-----+\n",
      "\n"
     ]
    }
   ],
   "source": [
    "feed_df.filter(F.col(\"FeedbackType\") == False).groupBy(\"CategoryType\").count().orderBy(F.desc(\"count\")).limit(1).show()"
   ]
  },
  {
   "cell_type": "code",
   "execution_count": 36,
   "metadata": {
    "colab": {
     "base_uri": "https://localhost:8080/"
    },
    "id": "K9DdatjDIm6g",
    "outputId": "5449df75-7c9f-4518-eccb-8f16d3a78801"
   },
   "outputs": [
    {
     "name": "stdout",
     "output_type": "stream",
     "text": [
      "root\n",
      " |-- Id: long (nullable = true)\n",
      " |-- DriverId: long (nullable = true)\n",
      " |-- UserId: long (nullable = true)\n",
      " |-- SLat: double (nullable = true)\n",
      " |-- SLong: double (nullable = true)\n",
      " |-- ELat: double (nullable = true)\n",
      " |-- ELong: double (nullable = true)\n",
      " |-- StartTime: timestamp (nullable = true)\n",
      " |-- EndTime: timestamp (nullable = true)\n",
      " |-- Duration: double (nullable = true)\n",
      " |-- Price: double (nullable = true)\n",
      " |-- DriverRate: long (nullable = true)\n",
      " |-- UserRate: long (nullable = true)\n",
      "\n"
     ]
    }
   ],
   "source": [
    "lab_data.printSchema()"
   ]
  },
  {
   "cell_type": "markdown",
   "metadata": {
    "id": "g3P7bpaE-W2p"
   },
   "source": [
    "# Варіант 9"
   ]
  },
  {
   "cell_type": "markdown",
   "metadata": {
    "id": "cqZrIsmkUGMV"
   },
   "source": [
    "## Топ 10 найдовших текстових коментарів"
   ]
  },
  {
   "cell_type": "code",
   "execution_count": 37,
   "metadata": {
    "colab": {
     "base_uri": "https://localhost:8080/"
    },
    "id": "uUyiTBjmJqbG",
    "outputId": "27054fad-1036-48b9-f784-2987459b1765"
   },
   "outputs": [
    {
     "name": "stdout",
     "output_type": "stream",
     "text": [
      "root\n",
      " |-- Id: long (nullable = true)\n",
      " |-- RideId: long (nullable = true)\n",
      " |-- FeedbackType: boolean (nullable = true)\n",
      " |-- CategoryType: string (nullable = true)\n",
      " |-- Comment: string (nullable = true)\n",
      "\n"
     ]
    }
   ],
   "source": [
    "feed_df.printSchema()"
   ]
  },
  {
   "cell_type": "code",
   "execution_count": 40,
   "metadata": {
    "colab": {
     "base_uri": "https://localhost:8080/"
    },
    "id": "deNKZ-kG4zA3",
    "outputId": "8f0cca4a-2d90-4b6b-cf10-767a9c11e59d"
   },
   "outputs": [
    {
     "name": "stdout",
     "output_type": "stream",
     "text": [
      "+------+--------+------+------------+------------+--------------------+------+------------------+------------------+----------+\n",
      "|    Id|DriverId|UserId|FeedbackType|CategoryType|             Comment|length|          Duration|             Price|DriverRate|\n",
      "+------+--------+------+------------+------------+--------------------+------+------------------+------------------+----------+\n",
      "| 90497|    1293| 15634|       false|     comfort| qlyratbb cijbipj...|   136|              20.0|              98.0|         4|\n",
      "| 76990|    1626| 14091|        true|     service| hzvfkjm ozybwhsi...|   135|              11.0|              63.2|      null|\n",
      "| 26559|    2253| 11227|        true|     comfort| kiktjaak bthmpiu...|   133|              20.0|              98.0|         2|\n",
      "| 54121|    1725| 13850|        true|     service| hvrwudvie gdhcrh...|   131|17.000000000000004|              70.4|      null|\n",
      "| 99903|    2677| 10055|        true|     waiting| iaryfdfr byxcvqc...|   131|              18.0| 93.19999999999999|         3|\n",
      "| 97879|    2294| 14024|       false|       speed| evnlspa iermzpcw...|   130|              20.0|              98.0|      null|\n",
      "| 66818|    2121| 12241|        true|     waiting| frrrm gmthykkrx ...|   129|              20.0|              74.0|         2|\n",
      "| 55428|    2061| 14565|        true|     comfort| bilwmhra aqihwrh...|   127|              22.0|             102.8|      null|\n",
      "| 24580|    2907| 11160|       false|       speed| zsmipkia aaxxxfh...|   127|              29.0|             119.6|         5|\n",
      "|107974|    3669| 10508|        true|     comfort| bzwwgsb nnyalh d...|   126|              18.0|              71.6|         4|\n",
      "| 31462|    1643| 13922|        true|     comfort| bacerox oovwuxnu...|   125|              24.0|              78.8|         5|\n",
      "| 85178|    2705| 14675|       false|     comfort| brpufzd cqddahh ...|   125|              21.0|              75.2|         5|\n",
      "| 21411|    1249| 13283|        true|     comfort| ewsrkckl duilig ...|   125|              28.0|              83.6|         5|\n",
      "| 48795|    1297| 15780|       false|       speed| gmvs agrslexia k...|   125|              25.0|              80.0|         5|\n",
      "| 75652|    3874| 12306|       false|     comfort| tusilimro dixiyc...|   124|              22.0|             102.8|         2|\n",
      "| 44723|    2867| 14645|        true|     waiting| qxvgylpc trlensk...|   124|              19.0|              72.8|      null|\n",
      "| 63360|    2169| 14228|        true|       speed| smmicps stmlpxy ...|   124|              23.0|105.19999999999999|         5|\n",
      "| 60964|    2045| 10389|        true|     waiting| nhunyn bwfrzrvu ...|   124|              22.0|             102.8|      null|\n",
      "|103006|    3468| 13349|        true|     waiting| htrmuxy wqgobn b...|   124|              13.0|              65.6|         5|\n",
      "| 83425|    2231| 15175|        true|     waiting| mtxvn dayakhc er...|   124|              19.0|              72.8|         4|\n",
      "+------+--------+------+------------+------------+--------------------+------+------------------+------------------+----------+\n",
      "only showing top 20 rows\n",
      "\n"
     ]
    }
   ],
   "source": [
    "TO_SHOW_COMMENTS = 10\n",
    "var9 = feed_df.select(\"RideId\", \"FeedbackType\", \"CategoryType\", \"Comment\", F.length(\"Comment\").alias(\"length\")).alias(\"top_comments\").join(\n",
    "    lab_data.alias(\"lab_data\"), lab_data.Id == feed_df.RideId\n",
    ").select(\n",
    "    \"lab_data.Id\",\n",
    "    \"lab_data.DriverId\",\n",
    "    \"lab_data.UserId\",\n",
    "    \"top_comments.FeedbackType\",\n",
    "    \"top_comments.CategoryType\",\n",
    "    \"top_comments.Comment\",\n",
    "    \"top_comments.length\",\n",
    "    \"lab_data.Duration\",\n",
    "    \"lab_data.Price\",\n",
    "    \"lab_data.DriverRate\",\n",
    "\n",
    ").orderBy(\n",
    "    F.desc(\"length\")\n",
    ")\n",
    "var9.show()"
   ]
  },
  {
   "cell_type": "code",
   "execution_count": 41,
   "metadata": {
    "colab": {
     "base_uri": "https://localhost:8080/",
     "height": 363
    },
    "id": "BoiiLvaK4zD0",
    "outputId": "597b7550-cdac-4ec3-aa5b-e8a8a385787c"
   },
   "outputs": [
    {
     "data": {
      "text/html": [
       "\n",
       "  <div id=\"df-50ba2755-c8d1-4584-9cdd-50301802c4a7\">\n",
       "    <div class=\"colab-df-container\">\n",
       "      <div>\n",
       "<style scoped>\n",
       "    .dataframe tbody tr th:only-of-type {\n",
       "        vertical-align: middle;\n",
       "    }\n",
       "\n",
       "    .dataframe tbody tr th {\n",
       "        vertical-align: top;\n",
       "    }\n",
       "\n",
       "    .dataframe thead th {\n",
       "        text-align: right;\n",
       "    }\n",
       "</style>\n",
       "<table border=\"1\" class=\"dataframe\">\n",
       "  <thead>\n",
       "    <tr style=\"text-align: right;\">\n",
       "      <th></th>\n",
       "      <th>Comment</th>\n",
       "      <th>length</th>\n",
       "    </tr>\n",
       "  </thead>\n",
       "  <tbody>\n",
       "    <tr>\n",
       "      <th>0</th>\n",
       "      <td>qlyratbb cijbipjpn xdvrhvmp nwuptabwc amdrhlc...</td>\n",
       "      <td>136</td>\n",
       "    </tr>\n",
       "    <tr>\n",
       "      <th>1</th>\n",
       "      <td>hzvfkjm ozybwhsi cgakupad zvwdwfwp lyjnh umii...</td>\n",
       "      <td>135</td>\n",
       "    </tr>\n",
       "    <tr>\n",
       "      <th>2</th>\n",
       "      <td>kiktjaak bthmpiuu vujawelyk vmlvqnblyk ehvxmr...</td>\n",
       "      <td>133</td>\n",
       "    </tr>\n",
       "    <tr>\n",
       "      <th>3</th>\n",
       "      <td>iaryfdfr byxcvqcg ejxblnzs tihkrtgdr djwmt ok...</td>\n",
       "      <td>131</td>\n",
       "    </tr>\n",
       "    <tr>\n",
       "      <th>4</th>\n",
       "      <td>hvrwudvie gdhcrhmx zdpcfzk vnwiol igylzayt fa...</td>\n",
       "      <td>131</td>\n",
       "    </tr>\n",
       "    <tr>\n",
       "      <th>5</th>\n",
       "      <td>evnlspa iermzpcw mvhgxkl lgvtqrkdi fwyehchskl...</td>\n",
       "      <td>130</td>\n",
       "    </tr>\n",
       "    <tr>\n",
       "      <th>6</th>\n",
       "      <td>frrrm gmthykkrx zytxcjcu cjddgjqjh dnlanll yk...</td>\n",
       "      <td>129</td>\n",
       "    </tr>\n",
       "    <tr>\n",
       "      <th>7</th>\n",
       "      <td>zsmipkia aaxxxfhheg xrcahkp dvnvnm hiwsgpc tf...</td>\n",
       "      <td>127</td>\n",
       "    </tr>\n",
       "    <tr>\n",
       "      <th>8</th>\n",
       "      <td>bilwmhra aqihwrhky fvprpmo ctsyoogcm jzrlp ho...</td>\n",
       "      <td>127</td>\n",
       "    </tr>\n",
       "    <tr>\n",
       "      <th>9</th>\n",
       "      <td>bzwwgsb nnyalh deqqgmwsfv conqxjsn zjccsa dae...</td>\n",
       "      <td>126</td>\n",
       "    </tr>\n",
       "  </tbody>\n",
       "</table>\n",
       "</div>\n",
       "      <button class=\"colab-df-convert\" onclick=\"convertToInteractive('df-50ba2755-c8d1-4584-9cdd-50301802c4a7')\"\n",
       "              title=\"Convert this dataframe to an interactive table.\"\n",
       "              style=\"display:none;\">\n",
       "        \n",
       "  <svg xmlns=\"http://www.w3.org/2000/svg\" height=\"24px\"viewBox=\"0 0 24 24\"\n",
       "       width=\"24px\">\n",
       "    <path d=\"M0 0h24v24H0V0z\" fill=\"none\"/>\n",
       "    <path d=\"M18.56 5.44l.94 2.06.94-2.06 2.06-.94-2.06-.94-.94-2.06-.94 2.06-2.06.94zm-11 1L8.5 8.5l.94-2.06 2.06-.94-2.06-.94L8.5 2.5l-.94 2.06-2.06.94zm10 10l.94 2.06.94-2.06 2.06-.94-2.06-.94-.94-2.06-.94 2.06-2.06.94z\"/><path d=\"M17.41 7.96l-1.37-1.37c-.4-.4-.92-.59-1.43-.59-.52 0-1.04.2-1.43.59L10.3 9.45l-7.72 7.72c-.78.78-.78 2.05 0 2.83L4 21.41c.39.39.9.59 1.41.59.51 0 1.02-.2 1.41-.59l7.78-7.78 2.81-2.81c.8-.78.8-2.07 0-2.86zM5.41 20L4 18.59l7.72-7.72 1.47 1.35L5.41 20z\"/>\n",
       "  </svg>\n",
       "      </button>\n",
       "      \n",
       "  <style>\n",
       "    .colab-df-container {\n",
       "      display:flex;\n",
       "      flex-wrap:wrap;\n",
       "      gap: 12px;\n",
       "    }\n",
       "\n",
       "    .colab-df-convert {\n",
       "      background-color: #E8F0FE;\n",
       "      border: none;\n",
       "      border-radius: 50%;\n",
       "      cursor: pointer;\n",
       "      display: none;\n",
       "      fill: #1967D2;\n",
       "      height: 32px;\n",
       "      padding: 0 0 0 0;\n",
       "      width: 32px;\n",
       "    }\n",
       "\n",
       "    .colab-df-convert:hover {\n",
       "      background-color: #E2EBFA;\n",
       "      box-shadow: 0px 1px 2px rgba(60, 64, 67, 0.3), 0px 1px 3px 1px rgba(60, 64, 67, 0.15);\n",
       "      fill: #174EA6;\n",
       "    }\n",
       "\n",
       "    [theme=dark] .colab-df-convert {\n",
       "      background-color: #3B4455;\n",
       "      fill: #D2E3FC;\n",
       "    }\n",
       "\n",
       "    [theme=dark] .colab-df-convert:hover {\n",
       "      background-color: #434B5C;\n",
       "      box-shadow: 0px 1px 3px 1px rgba(0, 0, 0, 0.15);\n",
       "      filter: drop-shadow(0px 1px 2px rgba(0, 0, 0, 0.3));\n",
       "      fill: #FFFFFF;\n",
       "    }\n",
       "  </style>\n",
       "\n",
       "      <script>\n",
       "        const buttonEl =\n",
       "          document.querySelector('#df-50ba2755-c8d1-4584-9cdd-50301802c4a7 button.colab-df-convert');\n",
       "        buttonEl.style.display =\n",
       "          google.colab.kernel.accessAllowed ? 'block' : 'none';\n",
       "\n",
       "        async function convertToInteractive(key) {\n",
       "          const element = document.querySelector('#df-50ba2755-c8d1-4584-9cdd-50301802c4a7');\n",
       "          const dataTable =\n",
       "            await google.colab.kernel.invokeFunction('convertToInteractive',\n",
       "                                                     [key], {});\n",
       "          if (!dataTable) return;\n",
       "\n",
       "          const docLinkHtml = 'Like what you see? Visit the ' +\n",
       "            '<a target=\"_blank\" href=https://colab.research.google.com/notebooks/data_table.ipynb>data table notebook</a>'\n",
       "            + ' to learn more about interactive tables.';\n",
       "          element.innerHTML = '';\n",
       "          dataTable['output_type'] = 'display_data';\n",
       "          await google.colab.output.renderOutput(dataTable, element);\n",
       "          const docLink = document.createElement('div');\n",
       "          docLink.innerHTML = docLinkHtml;\n",
       "          element.appendChild(docLink);\n",
       "        }\n",
       "      </script>\n",
       "    </div>\n",
       "  </div>\n",
       "  "
      ],
      "text/plain": [
       "                                             Comment  length\n",
       "0   qlyratbb cijbipjpn xdvrhvmp nwuptabwc amdrhlc...     136\n",
       "1   hzvfkjm ozybwhsi cgakupad zvwdwfwp lyjnh umii...     135\n",
       "2   kiktjaak bthmpiuu vujawelyk vmlvqnblyk ehvxmr...     133\n",
       "3   iaryfdfr byxcvqcg ejxblnzs tihkrtgdr djwmt ok...     131\n",
       "4   hvrwudvie gdhcrhmx zdpcfzk vnwiol igylzayt fa...     131\n",
       "5   evnlspa iermzpcw mvhgxkl lgvtqrkdi fwyehchskl...     130\n",
       "6   frrrm gmthykkrx zytxcjcu cjddgjqjh dnlanll yk...     129\n",
       "7   zsmipkia aaxxxfhheg xrcahkp dvnvnm hiwsgpc tf...     127\n",
       "8   bilwmhra aqihwrhky fvprpmo ctsyoogcm jzrlp ho...     127\n",
       "9   bzwwgsb nnyalh deqqgmwsfv conqxjsn zjccsa dae...     126"
      ]
     },
     "execution_count": 41,
     "metadata": {},
     "output_type": "execute_result"
    }
   ],
   "source": [
    "# bez join\n",
    "feed_df.select(\"Comment\", F.length(\"Comment\").alias(\"length\")).orderBy(F.desc(\"length\")).limit(TO_SHOW_COMMENTS).toPandas()"
   ]
  },
  {
   "cell_type": "code",
   "execution_count": null,
   "metadata": {
    "id": "n8Fknn3S4zKQ"
   },
   "outputs": [],
   "source": []
  }
 ],
 "metadata": {
  "colab": {
   "collapsed_sections": [],
   "name": "SparkLab",
   "provenance": []
  },
  "kernelspec": {
   "display_name": "Python 3",
   "language": "python",
   "name": "python3"
  },
  "language_info": {
   "codemirror_mode": {
    "name": "ipython",
    "version": 3
   },
   "file_extension": ".py",
   "mimetype": "text/x-python",
   "name": "python",
   "nbconvert_exporter": "python",
   "pygments_lexer": "ipython3",
   "version": "3.8.8"
  }
 },
 "nbformat": 4,
 "nbformat_minor": 1
}
